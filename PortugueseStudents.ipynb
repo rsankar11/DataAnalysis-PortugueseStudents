{
  "cells": [
    {
      "attachments": {},
      "cell_type": "markdown",
      "metadata": {
        "id": "cvFovyhh3H3_"
      },
      "source": [
        "# Predicting Student Performance\n",
        "\n",
        "- Name: Rahul Sankar\n",
        "\n",
        "## Project Description:\n",
        "This data is from Kaggle and is given in two .csv files, distinguished as data from two different Portuguese schools. The first task is to merge the two datasets through some data wrangling before conducting analysis. For the analysis, the dataset provides a wide range of 31 features to utilize in predicting the target output \"G3\", which is simply the final grade the student has earned in their final period.\n",
        "\n",
        "**A complete description of all columns in this dataset are provided below:**\n",
        "\n",
        "1. **school** - student's school (binary: \"GP\" - Gabriel Pereira or \"MS\" - Mousinho da Silveira)\n",
        "2. **sex** - student's sex (binary: \"F\" - female or \"M\" - male)\n",
        "3. **age** - student's age (numeric: from 15 to 22)\n",
        "4. **address** - student's home address type (binary: \"U\" - urban or \"R\" - rural)\n",
        "5. **famsize** - family size (binary: \"LE3\" - less or equal to 3 or \"GT3\" - greater than 3)\n",
        "6. **Pstatus** - parent's cohabitation status (binary: \"T\" - living together or \"A\" - apart)\n",
        "7. **Medu** - mother's education (numeric: 0 - none,  1 - primary education (4th grade), 2 – 5th to 9th grade, 3 – secondary education or 4 – higher education)\n",
        "8. **Fedu** - father's education (numeric: 0 - none,  1 - primary education (4th grade), 2 – 5th to 9th grade, 3 – secondary education or 4 – higher education)\n",
        "9. **Mjob** - mother's job (nominal: \"teacher\", \"health\" care related, civil \"services\" (e.g. administrative or police), \"at_home\" or \"other\")\n",
        "10. **Fjob**- father's job (nominal: \"teacher\", \"health\" care related, civil \"services\" (e.g. administrative or police), \"at_home\" or \"other\")\n",
        "11. **reason** - reason to choose this school (nominal: close to \"home\", school \"reputation\", \"course\" preference or \"other\")\n",
        "12. **guardian** - student's guardian (nominal: \"mother\", \"father\" or \"other\")\n",
        "13. **traveltime** - home to school travel time (numeric: 1 - < 15 min., 2 - 15 to 30 min., 3 - 30 min. to 1 hour, or 4 - >1 hour)\n",
        "14. **studytime** - weekly study time (numeric: 1 - < 2 hours, 2 - 2 to 5 hours, 3 - 5 to 10 hours, or 4 - >10 hours)\n",
        "15. **failures** - number of past class failures (numeric: n if 1 <= n < 3, else 4)\n",
        "16. **schoolsup** - extra educational support (binary: yes or no)\n",
        "17. **famsup** - family educational support (binary: yes or no)\n",
        "18. **paid** - extra paid classes within the course subject (Math or Portuguese) (binary: yes or no)\n",
        "19. **activities** - extra-curricular activities (binary: yes or no)\n",
        "20. **nursery** - attended nursery school (binary: yes or no)\n",
        "21. **higher** - wants to take higher education (binary: yes or no)\n",
        "22. **internet** - Internet access at home (binary: yes or no)\n",
        "23. **romantic** - with a romantic relationship (binary: yes or no)\n",
        "24. **famrel** - quality of family relationships (numeric: from 1 - very bad to 5 - excellent)\n",
        "25. **freetime** - free time after school (numeric: from 1 - very low to 5 - very high)\n",
        "26. **goout** - going out with friends (numeric: from 1 - very low to 5 - very high)\n",
        "27. **Dalc** - workday alcohol consumption (numeric: from 1 - very low to 5 - very high)\n",
        "28. **Walc** - weekend alcohol consumption (numeric: from 1 - very low to 5 - very high)\n",
        "29. **health** - current health status (numeric: from 1 - very bad to 5 - very good)\n",
        "30. **absences** - number of school absences (numeric: from 0 to 93)\n",
        "31. **G1** - first period grade (numeric: from 0 to 20)\n",
        "31. **G2** - second period grade (numeric: from 0 to 20)\n",
        "32. **G3** - final grade (numeric: from 0 to 20, output target)\n",
        "\n",
        "**Note:** there are several (382) students that belong to both datasets (df_math & df_port). \n",
        "\n",
        "## Research Question:\n",
        "\n",
        "**What is the final grade (\"G3\") of a student for the third session, given a variety of inputs. In other words, predict a student's performance in the third session.** Ideally, we would want to extend the usability of this model by applying it to students outside the dataset, in predicting their academic performance. The approach is to fit several predictive models (discussed below), after cleaning up the data and doing some feature engineering.\n",
        "\n",
        "\n",
        "My pre-analysis expectations are that the models should definitely get very accurate predictions with the testing data given the wealth of information to work with for each observation (student). Additionally, I expect the best predictors to be the students grades in previous tests (G1, G2), number of previous absences/failures, and quality of family relationships/parent's cohabitation status. My prediction that G1 & G2 are especially correlated with G3 values.\n",
        "\n",
        "\n",
        "The models will be evaluated and compared using MSE and R^2. Since MSE will give us the average number of points we are off for each prediction, it will be very useful in predicting overall effectiveness of models. R^2 is another standardized performance metric that accounts for the overall quality of the model in terms of attributing true performance capabilities versus inherent variation in the dataset. For the model to be at least somewhat accurate, I would expect a maximum MSE of 4.5 (given that the range of scores is 0-20).\n",
        "\n",
        "## Model Selection Summary:\n",
        "\n",
        "1. **Simple Linear Regression:** baseline regression to use in comparison to more advanced models.\n",
        "2. **kNN** (k-nearest neighbors): another simple model to conduct well-rounded model testing.\n",
        "3. **Lasso Regression:** given the large number of features (99), lasso regression helps with feature selection by shining light on the most valuable predictors and reducing impact of weaker ones.\n",
        "4. **Support Vector Machine:** given the multi-dimensionality of the data, this model uses a linear kernel to predict performance.\n",
        "\n",
        "## References:\n",
        "\n",
        "P. Cortez and A. Silva. Using Data Mining to Predict Secondary School Student Performance. In A. Brito and J. Teixeira Eds., Proceedings of 5th FUture BUsiness TEChnology Conference (FUBUTEC 2008) pp. 5-12, Porto, Portugal, April, 2008, EUROSIS, ISBN 978-9077381-39-7.\n",
        "\n",
        "Cortez, P. (no date) Paulo Cortez. Available at: https://pcortez.dsi.uminho.pt/ (Accessed: April 5, 2023). \n",
        "\n",
        "Verma, B. (2020) Student performance, Kaggle. Available at: https://www.kaggle.com/datasets/barkhaverma/student-performance (Accessed: April 5, 2023). "
      ]
    },
    {
      "attachments": {},
      "cell_type": "markdown",
      "metadata": {
        "id": "XaUDY8ZSUZoR"
      },
      "source": [
        "## Initial Setup"
      ]
    },
    {
      "cell_type": "code",
      "execution_count": 33,
      "metadata": {
        "id": "EPz8nuMJ7tae"
      },
      "outputs": [],
      "source": [
        "# Libraries\n",
        "import pandas as pd\n",
        "import numpy as np\n",
        "import seaborn as sns\n",
        "import matplotlib.pyplot as plt\n",
        "import matplotlib.colors as mcolors\n",
        "from sklearn.model_selection import train_test_split\n",
        "from sklearn.linear_model import LinearRegression\n",
        "from sklearn.neighbors import KNeighborsRegressor\n",
        "from sklearn.linear_model import Lasso\n",
        "from sklearn.linear_model import LassoCV\n",
        "from sklearn.svm import SVR\n",
        "from sklearn.metrics import mean_squared_error\n",
        "from sklearn.metrics import r2_score\n",
        "%matplotlib inline"
      ]
    },
    {
      "cell_type": "code",
      "execution_count": 34,
      "metadata": {
        "id": "GTC6ZJ4E7yxi"
      },
      "outputs": [],
      "source": [
        "# read in data from math school\n",
        "df_math = pd.read_csv('student-mat.csv', delimiter=';')\n",
        "\n",
        "# read in data from Portuguese school\n",
        "df_port = pd.read_csv('student-por.csv', delimiter=';')"
      ]
    },
    {
      "cell_type": "code",
      "execution_count": 35,
      "metadata": {
        "colab": {
          "base_uri": "https://localhost:8080/",
          "height": 467
        },
        "id": "mW6U84V4887c",
        "outputId": "b7de060b-abf5-4ef0-c40b-3293e6d7d00c"
      },
      "outputs": [
        {
          "data": {
            "text/html": [
              "\n",
              "  <div id=\"df-12765b3a-f264-4c30-9024-dae415dd013f\">\n",
              "    <div class=\"colab-df-container\">\n",
              "      <div>\n",
              "<style scoped>\n",
              "    .dataframe tbody tr th:only-of-type {\n",
              "        vertical-align: middle;\n",
              "    }\n",
              "\n",
              "    .dataframe tbody tr th {\n",
              "        vertical-align: top;\n",
              "    }\n",
              "\n",
              "    .dataframe thead th {\n",
              "        text-align: right;\n",
              "    }\n",
              "</style>\n",
              "<table border=\"1\" class=\"dataframe\">\n",
              "  <thead>\n",
              "    <tr style=\"text-align: right;\">\n",
              "      <th></th>\n",
              "      <th>school</th>\n",
              "      <th>sex</th>\n",
              "      <th>age</th>\n",
              "      <th>address</th>\n",
              "      <th>famsize</th>\n",
              "      <th>Pstatus</th>\n",
              "      <th>Medu</th>\n",
              "      <th>Fedu</th>\n",
              "      <th>Mjob</th>\n",
              "      <th>Fjob</th>\n",
              "      <th>...</th>\n",
              "      <th>famrel</th>\n",
              "      <th>freetime</th>\n",
              "      <th>goout</th>\n",
              "      <th>Dalc</th>\n",
              "      <th>Walc</th>\n",
              "      <th>health</th>\n",
              "      <th>absences</th>\n",
              "      <th>G1</th>\n",
              "      <th>G2</th>\n",
              "      <th>G3</th>\n",
              "    </tr>\n",
              "  </thead>\n",
              "  <tbody>\n",
              "    <tr>\n",
              "      <th>0</th>\n",
              "      <td>GP</td>\n",
              "      <td>F</td>\n",
              "      <td>18</td>\n",
              "      <td>U</td>\n",
              "      <td>GT3</td>\n",
              "      <td>A</td>\n",
              "      <td>4</td>\n",
              "      <td>4</td>\n",
              "      <td>at_home</td>\n",
              "      <td>teacher</td>\n",
              "      <td>...</td>\n",
              "      <td>4</td>\n",
              "      <td>3</td>\n",
              "      <td>4</td>\n",
              "      <td>1</td>\n",
              "      <td>1</td>\n",
              "      <td>3</td>\n",
              "      <td>6</td>\n",
              "      <td>5</td>\n",
              "      <td>6</td>\n",
              "      <td>6</td>\n",
              "    </tr>\n",
              "    <tr>\n",
              "      <th>1</th>\n",
              "      <td>GP</td>\n",
              "      <td>F</td>\n",
              "      <td>17</td>\n",
              "      <td>U</td>\n",
              "      <td>GT3</td>\n",
              "      <td>T</td>\n",
              "      <td>1</td>\n",
              "      <td>1</td>\n",
              "      <td>at_home</td>\n",
              "      <td>other</td>\n",
              "      <td>...</td>\n",
              "      <td>5</td>\n",
              "      <td>3</td>\n",
              "      <td>3</td>\n",
              "      <td>1</td>\n",
              "      <td>1</td>\n",
              "      <td>3</td>\n",
              "      <td>4</td>\n",
              "      <td>5</td>\n",
              "      <td>5</td>\n",
              "      <td>6</td>\n",
              "    </tr>\n",
              "    <tr>\n",
              "      <th>2</th>\n",
              "      <td>GP</td>\n",
              "      <td>F</td>\n",
              "      <td>15</td>\n",
              "      <td>U</td>\n",
              "      <td>LE3</td>\n",
              "      <td>T</td>\n",
              "      <td>1</td>\n",
              "      <td>1</td>\n",
              "      <td>at_home</td>\n",
              "      <td>other</td>\n",
              "      <td>...</td>\n",
              "      <td>4</td>\n",
              "      <td>3</td>\n",
              "      <td>2</td>\n",
              "      <td>2</td>\n",
              "      <td>3</td>\n",
              "      <td>3</td>\n",
              "      <td>10</td>\n",
              "      <td>7</td>\n",
              "      <td>8</td>\n",
              "      <td>10</td>\n",
              "    </tr>\n",
              "    <tr>\n",
              "      <th>3</th>\n",
              "      <td>GP</td>\n",
              "      <td>F</td>\n",
              "      <td>15</td>\n",
              "      <td>U</td>\n",
              "      <td>GT3</td>\n",
              "      <td>T</td>\n",
              "      <td>4</td>\n",
              "      <td>2</td>\n",
              "      <td>health</td>\n",
              "      <td>services</td>\n",
              "      <td>...</td>\n",
              "      <td>3</td>\n",
              "      <td>2</td>\n",
              "      <td>2</td>\n",
              "      <td>1</td>\n",
              "      <td>1</td>\n",
              "      <td>5</td>\n",
              "      <td>2</td>\n",
              "      <td>15</td>\n",
              "      <td>14</td>\n",
              "      <td>15</td>\n",
              "    </tr>\n",
              "    <tr>\n",
              "      <th>4</th>\n",
              "      <td>GP</td>\n",
              "      <td>F</td>\n",
              "      <td>16</td>\n",
              "      <td>U</td>\n",
              "      <td>GT3</td>\n",
              "      <td>T</td>\n",
              "      <td>3</td>\n",
              "      <td>3</td>\n",
              "      <td>other</td>\n",
              "      <td>other</td>\n",
              "      <td>...</td>\n",
              "      <td>4</td>\n",
              "      <td>3</td>\n",
              "      <td>2</td>\n",
              "      <td>1</td>\n",
              "      <td>2</td>\n",
              "      <td>5</td>\n",
              "      <td>4</td>\n",
              "      <td>6</td>\n",
              "      <td>10</td>\n",
              "      <td>10</td>\n",
              "    </tr>\n",
              "    <tr>\n",
              "      <th>...</th>\n",
              "      <td>...</td>\n",
              "      <td>...</td>\n",
              "      <td>...</td>\n",
              "      <td>...</td>\n",
              "      <td>...</td>\n",
              "      <td>...</td>\n",
              "      <td>...</td>\n",
              "      <td>...</td>\n",
              "      <td>...</td>\n",
              "      <td>...</td>\n",
              "      <td>...</td>\n",
              "      <td>...</td>\n",
              "      <td>...</td>\n",
              "      <td>...</td>\n",
              "      <td>...</td>\n",
              "      <td>...</td>\n",
              "      <td>...</td>\n",
              "      <td>...</td>\n",
              "      <td>...</td>\n",
              "      <td>...</td>\n",
              "      <td>...</td>\n",
              "    </tr>\n",
              "    <tr>\n",
              "      <th>390</th>\n",
              "      <td>MS</td>\n",
              "      <td>M</td>\n",
              "      <td>20</td>\n",
              "      <td>U</td>\n",
              "      <td>LE3</td>\n",
              "      <td>A</td>\n",
              "      <td>2</td>\n",
              "      <td>2</td>\n",
              "      <td>services</td>\n",
              "      <td>services</td>\n",
              "      <td>...</td>\n",
              "      <td>5</td>\n",
              "      <td>5</td>\n",
              "      <td>4</td>\n",
              "      <td>4</td>\n",
              "      <td>5</td>\n",
              "      <td>4</td>\n",
              "      <td>11</td>\n",
              "      <td>9</td>\n",
              "      <td>9</td>\n",
              "      <td>9</td>\n",
              "    </tr>\n",
              "    <tr>\n",
              "      <th>391</th>\n",
              "      <td>MS</td>\n",
              "      <td>M</td>\n",
              "      <td>17</td>\n",
              "      <td>U</td>\n",
              "      <td>LE3</td>\n",
              "      <td>T</td>\n",
              "      <td>3</td>\n",
              "      <td>1</td>\n",
              "      <td>services</td>\n",
              "      <td>services</td>\n",
              "      <td>...</td>\n",
              "      <td>2</td>\n",
              "      <td>4</td>\n",
              "      <td>5</td>\n",
              "      <td>3</td>\n",
              "      <td>4</td>\n",
              "      <td>2</td>\n",
              "      <td>3</td>\n",
              "      <td>14</td>\n",
              "      <td>16</td>\n",
              "      <td>16</td>\n",
              "    </tr>\n",
              "    <tr>\n",
              "      <th>392</th>\n",
              "      <td>MS</td>\n",
              "      <td>M</td>\n",
              "      <td>21</td>\n",
              "      <td>R</td>\n",
              "      <td>GT3</td>\n",
              "      <td>T</td>\n",
              "      <td>1</td>\n",
              "      <td>1</td>\n",
              "      <td>other</td>\n",
              "      <td>other</td>\n",
              "      <td>...</td>\n",
              "      <td>5</td>\n",
              "      <td>5</td>\n",
              "      <td>3</td>\n",
              "      <td>3</td>\n",
              "      <td>3</td>\n",
              "      <td>3</td>\n",
              "      <td>3</td>\n",
              "      <td>10</td>\n",
              "      <td>8</td>\n",
              "      <td>7</td>\n",
              "    </tr>\n",
              "    <tr>\n",
              "      <th>393</th>\n",
              "      <td>MS</td>\n",
              "      <td>M</td>\n",
              "      <td>18</td>\n",
              "      <td>R</td>\n",
              "      <td>LE3</td>\n",
              "      <td>T</td>\n",
              "      <td>3</td>\n",
              "      <td>2</td>\n",
              "      <td>services</td>\n",
              "      <td>other</td>\n",
              "      <td>...</td>\n",
              "      <td>4</td>\n",
              "      <td>4</td>\n",
              "      <td>1</td>\n",
              "      <td>3</td>\n",
              "      <td>4</td>\n",
              "      <td>5</td>\n",
              "      <td>0</td>\n",
              "      <td>11</td>\n",
              "      <td>12</td>\n",
              "      <td>10</td>\n",
              "    </tr>\n",
              "    <tr>\n",
              "      <th>394</th>\n",
              "      <td>MS</td>\n",
              "      <td>M</td>\n",
              "      <td>19</td>\n",
              "      <td>U</td>\n",
              "      <td>LE3</td>\n",
              "      <td>T</td>\n",
              "      <td>1</td>\n",
              "      <td>1</td>\n",
              "      <td>other</td>\n",
              "      <td>at_home</td>\n",
              "      <td>...</td>\n",
              "      <td>3</td>\n",
              "      <td>2</td>\n",
              "      <td>3</td>\n",
              "      <td>3</td>\n",
              "      <td>3</td>\n",
              "      <td>5</td>\n",
              "      <td>5</td>\n",
              "      <td>8</td>\n",
              "      <td>9</td>\n",
              "      <td>9</td>\n",
              "    </tr>\n",
              "  </tbody>\n",
              "</table>\n",
              "<p>395 rows × 33 columns</p>\n",
              "</div>\n",
              "      <button class=\"colab-df-convert\" onclick=\"convertToInteractive('df-12765b3a-f264-4c30-9024-dae415dd013f')\"\n",
              "              title=\"Convert this dataframe to an interactive table.\"\n",
              "              style=\"display:none;\">\n",
              "        \n",
              "  <svg xmlns=\"http://www.w3.org/2000/svg\" height=\"24px\"viewBox=\"0 0 24 24\"\n",
              "       width=\"24px\">\n",
              "    <path d=\"M0 0h24v24H0V0z\" fill=\"none\"/>\n",
              "    <path d=\"M18.56 5.44l.94 2.06.94-2.06 2.06-.94-2.06-.94-.94-2.06-.94 2.06-2.06.94zm-11 1L8.5 8.5l.94-2.06 2.06-.94-2.06-.94L8.5 2.5l-.94 2.06-2.06.94zm10 10l.94 2.06.94-2.06 2.06-.94-2.06-.94-.94-2.06-.94 2.06-2.06.94z\"/><path d=\"M17.41 7.96l-1.37-1.37c-.4-.4-.92-.59-1.43-.59-.52 0-1.04.2-1.43.59L10.3 9.45l-7.72 7.72c-.78.78-.78 2.05 0 2.83L4 21.41c.39.39.9.59 1.41.59.51 0 1.02-.2 1.41-.59l7.78-7.78 2.81-2.81c.8-.78.8-2.07 0-2.86zM5.41 20L4 18.59l7.72-7.72 1.47 1.35L5.41 20z\"/>\n",
              "  </svg>\n",
              "      </button>\n",
              "      \n",
              "  <style>\n",
              "    .colab-df-container {\n",
              "      display:flex;\n",
              "      flex-wrap:wrap;\n",
              "      gap: 12px;\n",
              "    }\n",
              "\n",
              "    .colab-df-convert {\n",
              "      background-color: #E8F0FE;\n",
              "      border: none;\n",
              "      border-radius: 50%;\n",
              "      cursor: pointer;\n",
              "      display: none;\n",
              "      fill: #1967D2;\n",
              "      height: 32px;\n",
              "      padding: 0 0 0 0;\n",
              "      width: 32px;\n",
              "    }\n",
              "\n",
              "    .colab-df-convert:hover {\n",
              "      background-color: #E2EBFA;\n",
              "      box-shadow: 0px 1px 2px rgba(60, 64, 67, 0.3), 0px 1px 3px 1px rgba(60, 64, 67, 0.15);\n",
              "      fill: #174EA6;\n",
              "    }\n",
              "\n",
              "    [theme=dark] .colab-df-convert {\n",
              "      background-color: #3B4455;\n",
              "      fill: #D2E3FC;\n",
              "    }\n",
              "\n",
              "    [theme=dark] .colab-df-convert:hover {\n",
              "      background-color: #434B5C;\n",
              "      box-shadow: 0px 1px 3px 1px rgba(0, 0, 0, 0.15);\n",
              "      filter: drop-shadow(0px 1px 2px rgba(0, 0, 0, 0.3));\n",
              "      fill: #FFFFFF;\n",
              "    }\n",
              "  </style>\n",
              "\n",
              "      <script>\n",
              "        const buttonEl =\n",
              "          document.querySelector('#df-12765b3a-f264-4c30-9024-dae415dd013f button.colab-df-convert');\n",
              "        buttonEl.style.display =\n",
              "          google.colab.kernel.accessAllowed ? 'block' : 'none';\n",
              "\n",
              "        async function convertToInteractive(key) {\n",
              "          const element = document.querySelector('#df-12765b3a-f264-4c30-9024-dae415dd013f');\n",
              "          const dataTable =\n",
              "            await google.colab.kernel.invokeFunction('convertToInteractive',\n",
              "                                                     [key], {});\n",
              "          if (!dataTable) return;\n",
              "\n",
              "          const docLinkHtml = 'Like what you see? Visit the ' +\n",
              "            '<a target=\"_blank\" href=https://colab.research.google.com/notebooks/data_table.ipynb>data table notebook</a>'\n",
              "            + ' to learn more about interactive tables.';\n",
              "          element.innerHTML = '';\n",
              "          dataTable['output_type'] = 'display_data';\n",
              "          await google.colab.output.renderOutput(dataTable, element);\n",
              "          const docLink = document.createElement('div');\n",
              "          docLink.innerHTML = docLinkHtml;\n",
              "          element.appendChild(docLink);\n",
              "        }\n",
              "      </script>\n",
              "    </div>\n",
              "  </div>\n",
              "  "
            ],
            "text/plain": [
              "    school sex  age address famsize Pstatus  Medu  Fedu      Mjob      Fjob  \\\n",
              "0       GP   F   18       U     GT3       A     4     4   at_home   teacher   \n",
              "1       GP   F   17       U     GT3       T     1     1   at_home     other   \n",
              "2       GP   F   15       U     LE3       T     1     1   at_home     other   \n",
              "3       GP   F   15       U     GT3       T     4     2    health  services   \n",
              "4       GP   F   16       U     GT3       T     3     3     other     other   \n",
              "..     ...  ..  ...     ...     ...     ...   ...   ...       ...       ...   \n",
              "390     MS   M   20       U     LE3       A     2     2  services  services   \n",
              "391     MS   M   17       U     LE3       T     3     1  services  services   \n",
              "392     MS   M   21       R     GT3       T     1     1     other     other   \n",
              "393     MS   M   18       R     LE3       T     3     2  services     other   \n",
              "394     MS   M   19       U     LE3       T     1     1     other   at_home   \n",
              "\n",
              "     ... famrel freetime  goout  Dalc  Walc health absences  G1  G2  G3  \n",
              "0    ...      4        3      4     1     1      3        6   5   6   6  \n",
              "1    ...      5        3      3     1     1      3        4   5   5   6  \n",
              "2    ...      4        3      2     2     3      3       10   7   8  10  \n",
              "3    ...      3        2      2     1     1      5        2  15  14  15  \n",
              "4    ...      4        3      2     1     2      5        4   6  10  10  \n",
              "..   ...    ...      ...    ...   ...   ...    ...      ...  ..  ..  ..  \n",
              "390  ...      5        5      4     4     5      4       11   9   9   9  \n",
              "391  ...      2        4      5     3     4      2        3  14  16  16  \n",
              "392  ...      5        5      3     3     3      3        3  10   8   7  \n",
              "393  ...      4        4      1     3     4      5        0  11  12  10  \n",
              "394  ...      3        2      3     3     3      5        5   8   9   9  \n",
              "\n",
              "[395 rows x 33 columns]"
            ]
          },
          "execution_count": 35,
          "metadata": {},
          "output_type": "execute_result"
        }
      ],
      "source": [
        "# students in math school\n",
        "df_math"
      ]
    },
    {
      "cell_type": "code",
      "execution_count": 4,
      "metadata": {
        "colab": {
          "base_uri": "https://localhost:8080/",
          "height": 467
        },
        "id": "x2tbcOyP9BFi",
        "outputId": "e30f15e9-2345-4425-9af7-1438d95fb205"
      },
      "outputs": [
        {
          "data": {
            "text/html": [
              "\n",
              "  <div id=\"df-87ae0b4d-af60-41d8-bbd7-4e2b64eb9f76\">\n",
              "    <div class=\"colab-df-container\">\n",
              "      <div>\n",
              "<style scoped>\n",
              "    .dataframe tbody tr th:only-of-type {\n",
              "        vertical-align: middle;\n",
              "    }\n",
              "\n",
              "    .dataframe tbody tr th {\n",
              "        vertical-align: top;\n",
              "    }\n",
              "\n",
              "    .dataframe thead th {\n",
              "        text-align: right;\n",
              "    }\n",
              "</style>\n",
              "<table border=\"1\" class=\"dataframe\">\n",
              "  <thead>\n",
              "    <tr style=\"text-align: right;\">\n",
              "      <th></th>\n",
              "      <th>school</th>\n",
              "      <th>sex</th>\n",
              "      <th>age</th>\n",
              "      <th>address</th>\n",
              "      <th>famsize</th>\n",
              "      <th>Pstatus</th>\n",
              "      <th>Medu</th>\n",
              "      <th>Fedu</th>\n",
              "      <th>Mjob</th>\n",
              "      <th>Fjob</th>\n",
              "      <th>...</th>\n",
              "      <th>famrel</th>\n",
              "      <th>freetime</th>\n",
              "      <th>goout</th>\n",
              "      <th>Dalc</th>\n",
              "      <th>Walc</th>\n",
              "      <th>health</th>\n",
              "      <th>absences</th>\n",
              "      <th>G1</th>\n",
              "      <th>G2</th>\n",
              "      <th>G3</th>\n",
              "    </tr>\n",
              "  </thead>\n",
              "  <tbody>\n",
              "    <tr>\n",
              "      <th>0</th>\n",
              "      <td>GP</td>\n",
              "      <td>F</td>\n",
              "      <td>18</td>\n",
              "      <td>U</td>\n",
              "      <td>GT3</td>\n",
              "      <td>A</td>\n",
              "      <td>4</td>\n",
              "      <td>4</td>\n",
              "      <td>at_home</td>\n",
              "      <td>teacher</td>\n",
              "      <td>...</td>\n",
              "      <td>4</td>\n",
              "      <td>3</td>\n",
              "      <td>4</td>\n",
              "      <td>1</td>\n",
              "      <td>1</td>\n",
              "      <td>3</td>\n",
              "      <td>4</td>\n",
              "      <td>0</td>\n",
              "      <td>11</td>\n",
              "      <td>11</td>\n",
              "    </tr>\n",
              "    <tr>\n",
              "      <th>1</th>\n",
              "      <td>GP</td>\n",
              "      <td>F</td>\n",
              "      <td>17</td>\n",
              "      <td>U</td>\n",
              "      <td>GT3</td>\n",
              "      <td>T</td>\n",
              "      <td>1</td>\n",
              "      <td>1</td>\n",
              "      <td>at_home</td>\n",
              "      <td>other</td>\n",
              "      <td>...</td>\n",
              "      <td>5</td>\n",
              "      <td>3</td>\n",
              "      <td>3</td>\n",
              "      <td>1</td>\n",
              "      <td>1</td>\n",
              "      <td>3</td>\n",
              "      <td>2</td>\n",
              "      <td>9</td>\n",
              "      <td>11</td>\n",
              "      <td>11</td>\n",
              "    </tr>\n",
              "    <tr>\n",
              "      <th>2</th>\n",
              "      <td>GP</td>\n",
              "      <td>F</td>\n",
              "      <td>15</td>\n",
              "      <td>U</td>\n",
              "      <td>LE3</td>\n",
              "      <td>T</td>\n",
              "      <td>1</td>\n",
              "      <td>1</td>\n",
              "      <td>at_home</td>\n",
              "      <td>other</td>\n",
              "      <td>...</td>\n",
              "      <td>4</td>\n",
              "      <td>3</td>\n",
              "      <td>2</td>\n",
              "      <td>2</td>\n",
              "      <td>3</td>\n",
              "      <td>3</td>\n",
              "      <td>6</td>\n",
              "      <td>12</td>\n",
              "      <td>13</td>\n",
              "      <td>12</td>\n",
              "    </tr>\n",
              "    <tr>\n",
              "      <th>3</th>\n",
              "      <td>GP</td>\n",
              "      <td>F</td>\n",
              "      <td>15</td>\n",
              "      <td>U</td>\n",
              "      <td>GT3</td>\n",
              "      <td>T</td>\n",
              "      <td>4</td>\n",
              "      <td>2</td>\n",
              "      <td>health</td>\n",
              "      <td>services</td>\n",
              "      <td>...</td>\n",
              "      <td>3</td>\n",
              "      <td>2</td>\n",
              "      <td>2</td>\n",
              "      <td>1</td>\n",
              "      <td>1</td>\n",
              "      <td>5</td>\n",
              "      <td>0</td>\n",
              "      <td>14</td>\n",
              "      <td>14</td>\n",
              "      <td>14</td>\n",
              "    </tr>\n",
              "    <tr>\n",
              "      <th>4</th>\n",
              "      <td>GP</td>\n",
              "      <td>F</td>\n",
              "      <td>16</td>\n",
              "      <td>U</td>\n",
              "      <td>GT3</td>\n",
              "      <td>T</td>\n",
              "      <td>3</td>\n",
              "      <td>3</td>\n",
              "      <td>other</td>\n",
              "      <td>other</td>\n",
              "      <td>...</td>\n",
              "      <td>4</td>\n",
              "      <td>3</td>\n",
              "      <td>2</td>\n",
              "      <td>1</td>\n",
              "      <td>2</td>\n",
              "      <td>5</td>\n",
              "      <td>0</td>\n",
              "      <td>11</td>\n",
              "      <td>13</td>\n",
              "      <td>13</td>\n",
              "    </tr>\n",
              "    <tr>\n",
              "      <th>...</th>\n",
              "      <td>...</td>\n",
              "      <td>...</td>\n",
              "      <td>...</td>\n",
              "      <td>...</td>\n",
              "      <td>...</td>\n",
              "      <td>...</td>\n",
              "      <td>...</td>\n",
              "      <td>...</td>\n",
              "      <td>...</td>\n",
              "      <td>...</td>\n",
              "      <td>...</td>\n",
              "      <td>...</td>\n",
              "      <td>...</td>\n",
              "      <td>...</td>\n",
              "      <td>...</td>\n",
              "      <td>...</td>\n",
              "      <td>...</td>\n",
              "      <td>...</td>\n",
              "      <td>...</td>\n",
              "      <td>...</td>\n",
              "      <td>...</td>\n",
              "    </tr>\n",
              "    <tr>\n",
              "      <th>644</th>\n",
              "      <td>MS</td>\n",
              "      <td>F</td>\n",
              "      <td>19</td>\n",
              "      <td>R</td>\n",
              "      <td>GT3</td>\n",
              "      <td>T</td>\n",
              "      <td>2</td>\n",
              "      <td>3</td>\n",
              "      <td>services</td>\n",
              "      <td>other</td>\n",
              "      <td>...</td>\n",
              "      <td>5</td>\n",
              "      <td>4</td>\n",
              "      <td>2</td>\n",
              "      <td>1</td>\n",
              "      <td>2</td>\n",
              "      <td>5</td>\n",
              "      <td>4</td>\n",
              "      <td>10</td>\n",
              "      <td>11</td>\n",
              "      <td>10</td>\n",
              "    </tr>\n",
              "    <tr>\n",
              "      <th>645</th>\n",
              "      <td>MS</td>\n",
              "      <td>F</td>\n",
              "      <td>18</td>\n",
              "      <td>U</td>\n",
              "      <td>LE3</td>\n",
              "      <td>T</td>\n",
              "      <td>3</td>\n",
              "      <td>1</td>\n",
              "      <td>teacher</td>\n",
              "      <td>services</td>\n",
              "      <td>...</td>\n",
              "      <td>4</td>\n",
              "      <td>3</td>\n",
              "      <td>4</td>\n",
              "      <td>1</td>\n",
              "      <td>1</td>\n",
              "      <td>1</td>\n",
              "      <td>4</td>\n",
              "      <td>15</td>\n",
              "      <td>15</td>\n",
              "      <td>16</td>\n",
              "    </tr>\n",
              "    <tr>\n",
              "      <th>646</th>\n",
              "      <td>MS</td>\n",
              "      <td>F</td>\n",
              "      <td>18</td>\n",
              "      <td>U</td>\n",
              "      <td>GT3</td>\n",
              "      <td>T</td>\n",
              "      <td>1</td>\n",
              "      <td>1</td>\n",
              "      <td>other</td>\n",
              "      <td>other</td>\n",
              "      <td>...</td>\n",
              "      <td>1</td>\n",
              "      <td>1</td>\n",
              "      <td>1</td>\n",
              "      <td>1</td>\n",
              "      <td>1</td>\n",
              "      <td>5</td>\n",
              "      <td>6</td>\n",
              "      <td>11</td>\n",
              "      <td>12</td>\n",
              "      <td>9</td>\n",
              "    </tr>\n",
              "    <tr>\n",
              "      <th>647</th>\n",
              "      <td>MS</td>\n",
              "      <td>M</td>\n",
              "      <td>17</td>\n",
              "      <td>U</td>\n",
              "      <td>LE3</td>\n",
              "      <td>T</td>\n",
              "      <td>3</td>\n",
              "      <td>1</td>\n",
              "      <td>services</td>\n",
              "      <td>services</td>\n",
              "      <td>...</td>\n",
              "      <td>2</td>\n",
              "      <td>4</td>\n",
              "      <td>5</td>\n",
              "      <td>3</td>\n",
              "      <td>4</td>\n",
              "      <td>2</td>\n",
              "      <td>6</td>\n",
              "      <td>10</td>\n",
              "      <td>10</td>\n",
              "      <td>10</td>\n",
              "    </tr>\n",
              "    <tr>\n",
              "      <th>648</th>\n",
              "      <td>MS</td>\n",
              "      <td>M</td>\n",
              "      <td>18</td>\n",
              "      <td>R</td>\n",
              "      <td>LE3</td>\n",
              "      <td>T</td>\n",
              "      <td>3</td>\n",
              "      <td>2</td>\n",
              "      <td>services</td>\n",
              "      <td>other</td>\n",
              "      <td>...</td>\n",
              "      <td>4</td>\n",
              "      <td>4</td>\n",
              "      <td>1</td>\n",
              "      <td>3</td>\n",
              "      <td>4</td>\n",
              "      <td>5</td>\n",
              "      <td>4</td>\n",
              "      <td>10</td>\n",
              "      <td>11</td>\n",
              "      <td>11</td>\n",
              "    </tr>\n",
              "  </tbody>\n",
              "</table>\n",
              "<p>649 rows × 33 columns</p>\n",
              "</div>\n",
              "      <button class=\"colab-df-convert\" onclick=\"convertToInteractive('df-87ae0b4d-af60-41d8-bbd7-4e2b64eb9f76')\"\n",
              "              title=\"Convert this dataframe to an interactive table.\"\n",
              "              style=\"display:none;\">\n",
              "        \n",
              "  <svg xmlns=\"http://www.w3.org/2000/svg\" height=\"24px\"viewBox=\"0 0 24 24\"\n",
              "       width=\"24px\">\n",
              "    <path d=\"M0 0h24v24H0V0z\" fill=\"none\"/>\n",
              "    <path d=\"M18.56 5.44l.94 2.06.94-2.06 2.06-.94-2.06-.94-.94-2.06-.94 2.06-2.06.94zm-11 1L8.5 8.5l.94-2.06 2.06-.94-2.06-.94L8.5 2.5l-.94 2.06-2.06.94zm10 10l.94 2.06.94-2.06 2.06-.94-2.06-.94-.94-2.06-.94 2.06-2.06.94z\"/><path d=\"M17.41 7.96l-1.37-1.37c-.4-.4-.92-.59-1.43-.59-.52 0-1.04.2-1.43.59L10.3 9.45l-7.72 7.72c-.78.78-.78 2.05 0 2.83L4 21.41c.39.39.9.59 1.41.59.51 0 1.02-.2 1.41-.59l7.78-7.78 2.81-2.81c.8-.78.8-2.07 0-2.86zM5.41 20L4 18.59l7.72-7.72 1.47 1.35L5.41 20z\"/>\n",
              "  </svg>\n",
              "      </button>\n",
              "      \n",
              "  <style>\n",
              "    .colab-df-container {\n",
              "      display:flex;\n",
              "      flex-wrap:wrap;\n",
              "      gap: 12px;\n",
              "    }\n",
              "\n",
              "    .colab-df-convert {\n",
              "      background-color: #E8F0FE;\n",
              "      border: none;\n",
              "      border-radius: 50%;\n",
              "      cursor: pointer;\n",
              "      display: none;\n",
              "      fill: #1967D2;\n",
              "      height: 32px;\n",
              "      padding: 0 0 0 0;\n",
              "      width: 32px;\n",
              "    }\n",
              "\n",
              "    .colab-df-convert:hover {\n",
              "      background-color: #E2EBFA;\n",
              "      box-shadow: 0px 1px 2px rgba(60, 64, 67, 0.3), 0px 1px 3px 1px rgba(60, 64, 67, 0.15);\n",
              "      fill: #174EA6;\n",
              "    }\n",
              "\n",
              "    [theme=dark] .colab-df-convert {\n",
              "      background-color: #3B4455;\n",
              "      fill: #D2E3FC;\n",
              "    }\n",
              "\n",
              "    [theme=dark] .colab-df-convert:hover {\n",
              "      background-color: #434B5C;\n",
              "      box-shadow: 0px 1px 3px 1px rgba(0, 0, 0, 0.15);\n",
              "      filter: drop-shadow(0px 1px 2px rgba(0, 0, 0, 0.3));\n",
              "      fill: #FFFFFF;\n",
              "    }\n",
              "  </style>\n",
              "\n",
              "      <script>\n",
              "        const buttonEl =\n",
              "          document.querySelector('#df-87ae0b4d-af60-41d8-bbd7-4e2b64eb9f76 button.colab-df-convert');\n",
              "        buttonEl.style.display =\n",
              "          google.colab.kernel.accessAllowed ? 'block' : 'none';\n",
              "\n",
              "        async function convertToInteractive(key) {\n",
              "          const element = document.querySelector('#df-87ae0b4d-af60-41d8-bbd7-4e2b64eb9f76');\n",
              "          const dataTable =\n",
              "            await google.colab.kernel.invokeFunction('convertToInteractive',\n",
              "                                                     [key], {});\n",
              "          if (!dataTable) return;\n",
              "\n",
              "          const docLinkHtml = 'Like what you see? Visit the ' +\n",
              "            '<a target=\"_blank\" href=https://colab.research.google.com/notebooks/data_table.ipynb>data table notebook</a>'\n",
              "            + ' to learn more about interactive tables.';\n",
              "          element.innerHTML = '';\n",
              "          dataTable['output_type'] = 'display_data';\n",
              "          await google.colab.output.renderOutput(dataTable, element);\n",
              "          const docLink = document.createElement('div');\n",
              "          docLink.innerHTML = docLinkHtml;\n",
              "          element.appendChild(docLink);\n",
              "        }\n",
              "      </script>\n",
              "    </div>\n",
              "  </div>\n",
              "  "
            ],
            "text/plain": [
              "    school sex  age address famsize Pstatus  Medu  Fedu      Mjob      Fjob  \\\n",
              "0       GP   F   18       U     GT3       A     4     4   at_home   teacher   \n",
              "1       GP   F   17       U     GT3       T     1     1   at_home     other   \n",
              "2       GP   F   15       U     LE3       T     1     1   at_home     other   \n",
              "3       GP   F   15       U     GT3       T     4     2    health  services   \n",
              "4       GP   F   16       U     GT3       T     3     3     other     other   \n",
              "..     ...  ..  ...     ...     ...     ...   ...   ...       ...       ...   \n",
              "644     MS   F   19       R     GT3       T     2     3  services     other   \n",
              "645     MS   F   18       U     LE3       T     3     1   teacher  services   \n",
              "646     MS   F   18       U     GT3       T     1     1     other     other   \n",
              "647     MS   M   17       U     LE3       T     3     1  services  services   \n",
              "648     MS   M   18       R     LE3       T     3     2  services     other   \n",
              "\n",
              "     ... famrel freetime  goout  Dalc  Walc health absences  G1  G2  G3  \n",
              "0    ...      4        3      4     1     1      3        4   0  11  11  \n",
              "1    ...      5        3      3     1     1      3        2   9  11  11  \n",
              "2    ...      4        3      2     2     3      3        6  12  13  12  \n",
              "3    ...      3        2      2     1     1      5        0  14  14  14  \n",
              "4    ...      4        3      2     1     2      5        0  11  13  13  \n",
              "..   ...    ...      ...    ...   ...   ...    ...      ...  ..  ..  ..  \n",
              "644  ...      5        4      2     1     2      5        4  10  11  10  \n",
              "645  ...      4        3      4     1     1      1        4  15  15  16  \n",
              "646  ...      1        1      1     1     1      5        6  11  12   9  \n",
              "647  ...      2        4      5     3     4      2        6  10  10  10  \n",
              "648  ...      4        4      1     3     4      5        4  10  11  11  \n",
              "\n",
              "[649 rows x 33 columns]"
            ]
          },
          "execution_count": 4,
          "metadata": {},
          "output_type": "execute_result"
        }
      ],
      "source": [
        "# students in Portuguese school\n",
        "df_port"
      ]
    },
    {
      "attachments": {},
      "cell_type": "markdown",
      "metadata": {
        "id": "B_Q917VzCJ3O"
      },
      "source": [
        "## Data Wrangling"
      ]
    },
    {
      "cell_type": "code",
      "execution_count": 5,
      "metadata": {
        "colab": {
          "base_uri": "https://localhost:8080/",
          "height": 467
        },
        "id": "sI6mhPZc9gSJ",
        "outputId": "df1d96e4-2b8c-414f-8971-fef1d223913b"
      },
      "outputs": [
        {
          "data": {
            "text/html": [
              "\n",
              "  <div id=\"df-bde5f3ed-b879-4bc9-a38b-3a07fcb6c027\">\n",
              "    <div class=\"colab-df-container\">\n",
              "      <div>\n",
              "<style scoped>\n",
              "    .dataframe tbody tr th:only-of-type {\n",
              "        vertical-align: middle;\n",
              "    }\n",
              "\n",
              "    .dataframe tbody tr th {\n",
              "        vertical-align: top;\n",
              "    }\n",
              "\n",
              "    .dataframe thead th {\n",
              "        text-align: right;\n",
              "    }\n",
              "</style>\n",
              "<table border=\"1\" class=\"dataframe\">\n",
              "  <thead>\n",
              "    <tr style=\"text-align: right;\">\n",
              "      <th></th>\n",
              "      <th>school</th>\n",
              "      <th>sex</th>\n",
              "      <th>age</th>\n",
              "      <th>address</th>\n",
              "      <th>famsize</th>\n",
              "      <th>Pstatus</th>\n",
              "      <th>Medu</th>\n",
              "      <th>Fedu</th>\n",
              "      <th>Mjob</th>\n",
              "      <th>Fjob</th>\n",
              "      <th>...</th>\n",
              "      <th>famrel</th>\n",
              "      <th>freetime</th>\n",
              "      <th>goout</th>\n",
              "      <th>Dalc</th>\n",
              "      <th>Walc</th>\n",
              "      <th>health</th>\n",
              "      <th>absences</th>\n",
              "      <th>G1</th>\n",
              "      <th>G2</th>\n",
              "      <th>G3</th>\n",
              "    </tr>\n",
              "  </thead>\n",
              "  <tbody>\n",
              "    <tr>\n",
              "      <th>0</th>\n",
              "      <td>GP</td>\n",
              "      <td>F</td>\n",
              "      <td>18</td>\n",
              "      <td>U</td>\n",
              "      <td>GT3</td>\n",
              "      <td>A</td>\n",
              "      <td>4</td>\n",
              "      <td>4</td>\n",
              "      <td>at_home</td>\n",
              "      <td>teacher</td>\n",
              "      <td>...</td>\n",
              "      <td>4</td>\n",
              "      <td>3</td>\n",
              "      <td>4</td>\n",
              "      <td>1</td>\n",
              "      <td>1</td>\n",
              "      <td>3</td>\n",
              "      <td>6</td>\n",
              "      <td>5</td>\n",
              "      <td>6</td>\n",
              "      <td>6</td>\n",
              "    </tr>\n",
              "    <tr>\n",
              "      <th>1</th>\n",
              "      <td>GP</td>\n",
              "      <td>F</td>\n",
              "      <td>17</td>\n",
              "      <td>U</td>\n",
              "      <td>GT3</td>\n",
              "      <td>T</td>\n",
              "      <td>1</td>\n",
              "      <td>1</td>\n",
              "      <td>at_home</td>\n",
              "      <td>other</td>\n",
              "      <td>...</td>\n",
              "      <td>5</td>\n",
              "      <td>3</td>\n",
              "      <td>3</td>\n",
              "      <td>1</td>\n",
              "      <td>1</td>\n",
              "      <td>3</td>\n",
              "      <td>4</td>\n",
              "      <td>5</td>\n",
              "      <td>5</td>\n",
              "      <td>6</td>\n",
              "    </tr>\n",
              "    <tr>\n",
              "      <th>2</th>\n",
              "      <td>GP</td>\n",
              "      <td>F</td>\n",
              "      <td>15</td>\n",
              "      <td>U</td>\n",
              "      <td>LE3</td>\n",
              "      <td>T</td>\n",
              "      <td>1</td>\n",
              "      <td>1</td>\n",
              "      <td>at_home</td>\n",
              "      <td>other</td>\n",
              "      <td>...</td>\n",
              "      <td>4</td>\n",
              "      <td>3</td>\n",
              "      <td>2</td>\n",
              "      <td>2</td>\n",
              "      <td>3</td>\n",
              "      <td>3</td>\n",
              "      <td>10</td>\n",
              "      <td>7</td>\n",
              "      <td>8</td>\n",
              "      <td>10</td>\n",
              "    </tr>\n",
              "    <tr>\n",
              "      <th>3</th>\n",
              "      <td>GP</td>\n",
              "      <td>F</td>\n",
              "      <td>15</td>\n",
              "      <td>U</td>\n",
              "      <td>GT3</td>\n",
              "      <td>T</td>\n",
              "      <td>4</td>\n",
              "      <td>2</td>\n",
              "      <td>health</td>\n",
              "      <td>services</td>\n",
              "      <td>...</td>\n",
              "      <td>3</td>\n",
              "      <td>2</td>\n",
              "      <td>2</td>\n",
              "      <td>1</td>\n",
              "      <td>1</td>\n",
              "      <td>5</td>\n",
              "      <td>2</td>\n",
              "      <td>15</td>\n",
              "      <td>14</td>\n",
              "      <td>15</td>\n",
              "    </tr>\n",
              "    <tr>\n",
              "      <th>4</th>\n",
              "      <td>GP</td>\n",
              "      <td>F</td>\n",
              "      <td>16</td>\n",
              "      <td>U</td>\n",
              "      <td>GT3</td>\n",
              "      <td>T</td>\n",
              "      <td>3</td>\n",
              "      <td>3</td>\n",
              "      <td>other</td>\n",
              "      <td>other</td>\n",
              "      <td>...</td>\n",
              "      <td>4</td>\n",
              "      <td>3</td>\n",
              "      <td>2</td>\n",
              "      <td>1</td>\n",
              "      <td>2</td>\n",
              "      <td>5</td>\n",
              "      <td>4</td>\n",
              "      <td>6</td>\n",
              "      <td>10</td>\n",
              "      <td>10</td>\n",
              "    </tr>\n",
              "    <tr>\n",
              "      <th>...</th>\n",
              "      <td>...</td>\n",
              "      <td>...</td>\n",
              "      <td>...</td>\n",
              "      <td>...</td>\n",
              "      <td>...</td>\n",
              "      <td>...</td>\n",
              "      <td>...</td>\n",
              "      <td>...</td>\n",
              "      <td>...</td>\n",
              "      <td>...</td>\n",
              "      <td>...</td>\n",
              "      <td>...</td>\n",
              "      <td>...</td>\n",
              "      <td>...</td>\n",
              "      <td>...</td>\n",
              "      <td>...</td>\n",
              "      <td>...</td>\n",
              "      <td>...</td>\n",
              "      <td>...</td>\n",
              "      <td>...</td>\n",
              "      <td>...</td>\n",
              "    </tr>\n",
              "    <tr>\n",
              "      <th>657</th>\n",
              "      <td>MS</td>\n",
              "      <td>F</td>\n",
              "      <td>19</td>\n",
              "      <td>R</td>\n",
              "      <td>GT3</td>\n",
              "      <td>A</td>\n",
              "      <td>1</td>\n",
              "      <td>1</td>\n",
              "      <td>at_home</td>\n",
              "      <td>at_home</td>\n",
              "      <td>...</td>\n",
              "      <td>3</td>\n",
              "      <td>5</td>\n",
              "      <td>4</td>\n",
              "      <td>1</td>\n",
              "      <td>4</td>\n",
              "      <td>1</td>\n",
              "      <td>0</td>\n",
              "      <td>8</td>\n",
              "      <td>0</td>\n",
              "      <td>0</td>\n",
              "    </tr>\n",
              "    <tr>\n",
              "      <th>658</th>\n",
              "      <td>MS</td>\n",
              "      <td>F</td>\n",
              "      <td>18</td>\n",
              "      <td>R</td>\n",
              "      <td>GT3</td>\n",
              "      <td>T</td>\n",
              "      <td>2</td>\n",
              "      <td>2</td>\n",
              "      <td>services</td>\n",
              "      <td>other</td>\n",
              "      <td>...</td>\n",
              "      <td>4</td>\n",
              "      <td>2</td>\n",
              "      <td>1</td>\n",
              "      <td>1</td>\n",
              "      <td>1</td>\n",
              "      <td>4</td>\n",
              "      <td>5</td>\n",
              "      <td>14</td>\n",
              "      <td>14</td>\n",
              "      <td>15</td>\n",
              "    </tr>\n",
              "    <tr>\n",
              "      <th>659</th>\n",
              "      <td>MS</td>\n",
              "      <td>F</td>\n",
              "      <td>18</td>\n",
              "      <td>R</td>\n",
              "      <td>LE3</td>\n",
              "      <td>A</td>\n",
              "      <td>1</td>\n",
              "      <td>2</td>\n",
              "      <td>at_home</td>\n",
              "      <td>other</td>\n",
              "      <td>...</td>\n",
              "      <td>4</td>\n",
              "      <td>3</td>\n",
              "      <td>4</td>\n",
              "      <td>1</td>\n",
              "      <td>4</td>\n",
              "      <td>5</td>\n",
              "      <td>0</td>\n",
              "      <td>16</td>\n",
              "      <td>15</td>\n",
              "      <td>15</td>\n",
              "    </tr>\n",
              "    <tr>\n",
              "      <th>660</th>\n",
              "      <td>MS</td>\n",
              "      <td>F</td>\n",
              "      <td>19</td>\n",
              "      <td>R</td>\n",
              "      <td>GT3</td>\n",
              "      <td>T</td>\n",
              "      <td>1</td>\n",
              "      <td>1</td>\n",
              "      <td>at_home</td>\n",
              "      <td>other</td>\n",
              "      <td>...</td>\n",
              "      <td>4</td>\n",
              "      <td>3</td>\n",
              "      <td>3</td>\n",
              "      <td>1</td>\n",
              "      <td>1</td>\n",
              "      <td>3</td>\n",
              "      <td>4</td>\n",
              "      <td>7</td>\n",
              "      <td>8</td>\n",
              "      <td>9</td>\n",
              "    </tr>\n",
              "    <tr>\n",
              "      <th>661</th>\n",
              "      <td>MS</td>\n",
              "      <td>F</td>\n",
              "      <td>17</td>\n",
              "      <td>U</td>\n",
              "      <td>GT3</td>\n",
              "      <td>T</td>\n",
              "      <td>4</td>\n",
              "      <td>3</td>\n",
              "      <td>teacher</td>\n",
              "      <td>other</td>\n",
              "      <td>...</td>\n",
              "      <td>5</td>\n",
              "      <td>5</td>\n",
              "      <td>4</td>\n",
              "      <td>1</td>\n",
              "      <td>1</td>\n",
              "      <td>1</td>\n",
              "      <td>0</td>\n",
              "      <td>6</td>\n",
              "      <td>9</td>\n",
              "      <td>11</td>\n",
              "    </tr>\n",
              "  </tbody>\n",
              "</table>\n",
              "<p>662 rows × 33 columns</p>\n",
              "</div>\n",
              "      <button class=\"colab-df-convert\" onclick=\"convertToInteractive('df-bde5f3ed-b879-4bc9-a38b-3a07fcb6c027')\"\n",
              "              title=\"Convert this dataframe to an interactive table.\"\n",
              "              style=\"display:none;\">\n",
              "        \n",
              "  <svg xmlns=\"http://www.w3.org/2000/svg\" height=\"24px\"viewBox=\"0 0 24 24\"\n",
              "       width=\"24px\">\n",
              "    <path d=\"M0 0h24v24H0V0z\" fill=\"none\"/>\n",
              "    <path d=\"M18.56 5.44l.94 2.06.94-2.06 2.06-.94-2.06-.94-.94-2.06-.94 2.06-2.06.94zm-11 1L8.5 8.5l.94-2.06 2.06-.94-2.06-.94L8.5 2.5l-.94 2.06-2.06.94zm10 10l.94 2.06.94-2.06 2.06-.94-2.06-.94-.94-2.06-.94 2.06-2.06.94z\"/><path d=\"M17.41 7.96l-1.37-1.37c-.4-.4-.92-.59-1.43-.59-.52 0-1.04.2-1.43.59L10.3 9.45l-7.72 7.72c-.78.78-.78 2.05 0 2.83L4 21.41c.39.39.9.59 1.41.59.51 0 1.02-.2 1.41-.59l7.78-7.78 2.81-2.81c.8-.78.8-2.07 0-2.86zM5.41 20L4 18.59l7.72-7.72 1.47 1.35L5.41 20z\"/>\n",
              "  </svg>\n",
              "      </button>\n",
              "      \n",
              "  <style>\n",
              "    .colab-df-container {\n",
              "      display:flex;\n",
              "      flex-wrap:wrap;\n",
              "      gap: 12px;\n",
              "    }\n",
              "\n",
              "    .colab-df-convert {\n",
              "      background-color: #E8F0FE;\n",
              "      border: none;\n",
              "      border-radius: 50%;\n",
              "      cursor: pointer;\n",
              "      display: none;\n",
              "      fill: #1967D2;\n",
              "      height: 32px;\n",
              "      padding: 0 0 0 0;\n",
              "      width: 32px;\n",
              "    }\n",
              "\n",
              "    .colab-df-convert:hover {\n",
              "      background-color: #E2EBFA;\n",
              "      box-shadow: 0px 1px 2px rgba(60, 64, 67, 0.3), 0px 1px 3px 1px rgba(60, 64, 67, 0.15);\n",
              "      fill: #174EA6;\n",
              "    }\n",
              "\n",
              "    [theme=dark] .colab-df-convert {\n",
              "      background-color: #3B4455;\n",
              "      fill: #D2E3FC;\n",
              "    }\n",
              "\n",
              "    [theme=dark] .colab-df-convert:hover {\n",
              "      background-color: #434B5C;\n",
              "      box-shadow: 0px 1px 3px 1px rgba(0, 0, 0, 0.15);\n",
              "      filter: drop-shadow(0px 1px 2px rgba(0, 0, 0, 0.3));\n",
              "      fill: #FFFFFF;\n",
              "    }\n",
              "  </style>\n",
              "\n",
              "      <script>\n",
              "        const buttonEl =\n",
              "          document.querySelector('#df-bde5f3ed-b879-4bc9-a38b-3a07fcb6c027 button.colab-df-convert');\n",
              "        buttonEl.style.display =\n",
              "          google.colab.kernel.accessAllowed ? 'block' : 'none';\n",
              "\n",
              "        async function convertToInteractive(key) {\n",
              "          const element = document.querySelector('#df-bde5f3ed-b879-4bc9-a38b-3a07fcb6c027');\n",
              "          const dataTable =\n",
              "            await google.colab.kernel.invokeFunction('convertToInteractive',\n",
              "                                                     [key], {});\n",
              "          if (!dataTable) return;\n",
              "\n",
              "          const docLinkHtml = 'Like what you see? Visit the ' +\n",
              "            '<a target=\"_blank\" href=https://colab.research.google.com/notebooks/data_table.ipynb>data table notebook</a>'\n",
              "            + ' to learn more about interactive tables.';\n",
              "          element.innerHTML = '';\n",
              "          dataTable['output_type'] = 'display_data';\n",
              "          await google.colab.output.renderOutput(dataTable, element);\n",
              "          const docLink = document.createElement('div');\n",
              "          docLink.innerHTML = docLinkHtml;\n",
              "          element.appendChild(docLink);\n",
              "        }\n",
              "      </script>\n",
              "    </div>\n",
              "  </div>\n",
              "  "
            ],
            "text/plain": [
              "    school sex  age address famsize Pstatus  Medu  Fedu      Mjob      Fjob  \\\n",
              "0       GP   F   18       U     GT3       A     4     4   at_home   teacher   \n",
              "1       GP   F   17       U     GT3       T     1     1   at_home     other   \n",
              "2       GP   F   15       U     LE3       T     1     1   at_home     other   \n",
              "3       GP   F   15       U     GT3       T     4     2    health  services   \n",
              "4       GP   F   16       U     GT3       T     3     3     other     other   \n",
              "..     ...  ..  ...     ...     ...     ...   ...   ...       ...       ...   \n",
              "657     MS   F   19       R     GT3       A     1     1   at_home   at_home   \n",
              "658     MS   F   18       R     GT3       T     2     2  services     other   \n",
              "659     MS   F   18       R     LE3       A     1     2   at_home     other   \n",
              "660     MS   F   19       R     GT3       T     1     1   at_home     other   \n",
              "661     MS   F   17       U     GT3       T     4     3   teacher     other   \n",
              "\n",
              "     ... famrel freetime  goout  Dalc  Walc health absences  G1  G2  G3  \n",
              "0    ...      4        3      4     1     1      3        6   5   6   6  \n",
              "1    ...      5        3      3     1     1      3        4   5   5   6  \n",
              "2    ...      4        3      2     2     3      3       10   7   8  10  \n",
              "3    ...      3        2      2     1     1      5        2  15  14  15  \n",
              "4    ...      4        3      2     1     2      5        4   6  10  10  \n",
              "..   ...    ...      ...    ...   ...   ...    ...      ...  ..  ..  ..  \n",
              "657  ...      3        5      4     1     4      1        0   8   0   0  \n",
              "658  ...      4        2      1     1     1      4        5  14  14  15  \n",
              "659  ...      4        3      4     1     4      5        0  16  15  15  \n",
              "660  ...      4        3      3     1     1      3        4   7   8   9  \n",
              "661  ...      5        5      4     1     1      1        0   6   9  11  \n",
              "\n",
              "[662 rows x 33 columns]"
            ]
          },
          "execution_count": 5,
          "metadata": {},
          "output_type": "execute_result"
        }
      ],
      "source": [
        "# merge both data sets and remove duplicate data\n",
        "merge_cols = ['school', 'sex', 'age', 'address', 'famsize', 'Pstatus', 'Medu', 'Fedu', 'Mjob', 'Fjob', 'reason', 'nursery', 'internet']\n",
        "df = pd.concat([df_math, df_port]).drop_duplicates(subset=merge_cols).reset_index(drop=True)\n",
        "\n",
        "# look for issues in data\n",
        "df"
      ]
    },
    {
      "cell_type": "code",
      "execution_count": 7,
      "metadata": {
        "colab": {
          "base_uri": "https://localhost:8080/"
        },
        "id": "6OF5kzG_AeLA",
        "outputId": "bfbebd98-c0d5-4032-8187-fa35521e545c"
      },
      "outputs": [
        {
          "name": "stdout",
          "output_type": "stream",
          "text": [
            "Null/missing values: False\n",
            "Duplication: False\n",
            "Negative values: False\n",
            "Min Age: 15\n",
            "Max Age: 22\n",
            "G1 > 20: False\n",
            "G2 > 20: False\n",
            "G3 > 20: False\n",
            "\n",
            "school          object\n",
            "sex             object\n",
            "age              int64\n",
            "address         object\n",
            "famsize         object\n",
            "Pstatus         object\n",
            "Medu          category\n",
            "Fedu          category\n",
            "Mjob            object\n",
            "Fjob            object\n",
            "reason          object\n",
            "guardian        object\n",
            "traveltime    category\n",
            "studytime     category\n",
            "failures         int64\n",
            "schoolsup       object\n",
            "famsup          object\n",
            "paid            object\n",
            "activities      object\n",
            "nursery         object\n",
            "higher          object\n",
            "internet        object\n",
            "romantic        object\n",
            "famrel        category\n",
            "freetime      category\n",
            "goout         category\n",
            "Dalc          category\n",
            "Walc          category\n",
            "health        category\n",
            "absences         int64\n",
            "G1               int64\n",
            "G2               int64\n",
            "G3               int64\n",
            "dtype: object\n",
            "\n",
            "All checks passed!\n"
          ]
        }
      ],
      "source": [
        "# additional checks to ensure data is valid:\n",
        "\n",
        "# check for missing or null values\n",
        "print(f\"Null/missing values: {df.isnull().values.any()}\")\n",
        "# check for duplicate rows\n",
        "print(f\"Duplication: {df.duplicated().any()}\")\n",
        "# check for negative values\n",
        "print(f\"Negative values: {(df.select_dtypes(include=['float', 'int']) < 0).any().any()}\")\n",
        "# check for non-sensible age values\n",
        "print(f\"Min Age: {df['age'].min()}\")\n",
        "print(f\"Max Age: {df['age'].max()}\")\n",
        "# check for non-sensible grade values\n",
        "print(f\"G1 > 20: {(df['G1']>20).any()}\")\n",
        "print(f\"G2 > 20: {(df['G2']>20).any()}\")\n",
        "print(f\"G3 > 20: {(df['G3']>20).any()}\")\n",
        "\n",
        "# ensure appropriate data types:\n",
        "df['Medu'] = df['Medu'].astype('category')\n",
        "df['Fedu'] = df['Fedu'].astype('category')\n",
        "df['traveltime'] = df['traveltime'].astype('category')\n",
        "df['studytime'] = df['studytime'].astype('category')\n",
        "df['famrel'] = df['famrel'].astype('category')\n",
        "df['freetime'] = df['freetime'].astype('category')\n",
        "df['goout'] = df['goout'].astype('category')\n",
        "df['Dalc'] = df['Dalc'].astype('category')\n",
        "df['Walc'] = df['Walc'].astype('category')\n",
        "df['health'] = df['health'].astype('category')\n",
        "print(f\"\\n{df.dtypes}\")\n",
        "\n",
        "print(\"\\nAll checks passed!\")"
      ]
    },
    {
      "attachments": {},
      "cell_type": "markdown",
      "metadata": {
        "id": "bm9SwPBIHERN"
      },
      "source": [
        "## Exploratory Data Analysis (EDA):\n",
        "\n",
        "*See below for visualizations and addtional insight on data.*"
      ]
    },
    {
      "cell_type": "code",
      "execution_count": 7,
      "metadata": {
        "colab": {
          "base_uri": "https://localhost:8080/",
          "height": 1000
        },
        "id": "fr72nWZdID_f",
        "outputId": "3c41ea35-dbea-4b77-b370-9b0476f63ca9"
      },
      "outputs": [
        {
          "data": {
            "text/plain": [
              "<seaborn.axisgrid.PairGrid at 0x7f4f51c8d9d0>"
            ]
          },
          "execution_count": 7,
          "metadata": {},
          "output_type": "execute_result"
        },
        {
          "data": {
            "image/png": "[encoded data removed]",
            "text/plain": [
              "<Figure size 1250x1250 with 30 Axes>"
            ]
          },
          "metadata": {},
          "output_type": "display_data"
        }
      ],
      "source": [
        "sns.pairplot(df[['age', 'absences', 'G1', 'G2', 'G3']])"
      ]
    },
    {
      "attachments": {},
      "cell_type": "markdown",
      "metadata": {
        "id": "rz8Q223RPJhv"
      },
      "source": [
        "**Takeaway:** Scoring higher on G1 & G2 is positively related to scoring higher on G3. G1, G2, & G3 seem to be normally distributed while \"age\" is slightly right skewed, and \"absences\" are very right skewed."
      ]
    },
    {
      "cell_type": "code",
      "execution_count": 8,
      "metadata": {
        "colab": {
          "base_uri": "https://localhost:8080/"
        },
        "id": "ytJxJA2gaHZt",
        "outputId": "68c7dcbf-3bed-49f5-ede5-d597fe69aa4f"
      },
      "outputs": [
        {
          "name": "stdout",
          "output_type": "stream",
          "text": [
            "               age  absences        G1        G2        G3\n",
            "age       1.000000  0.168313 -0.113206 -0.130408 -0.127446\n",
            "absences  0.168313  1.000000 -0.050925 -0.042650 -0.004601\n",
            "G1       -0.113206 -0.050925  1.000000  0.841436  0.796569\n",
            "G2       -0.130408 -0.042650  0.841436  1.000000  0.913548\n",
            "G3       -0.127446 -0.004601  0.796569  0.913548  1.000000\n"
          ]
        }
      ],
      "source": [
        "## correlation matrix\n",
        "corr_matrix = df[['age', 'absences', 'G1', 'G2', 'G3']].corr()\n",
        "print(corr_matrix)"
      ]
    },
    {
      "attachments": {},
      "cell_type": "markdown",
      "metadata": {
        "id": "cQMshFstaaRH"
      },
      "source": [
        "**Takeaway:** Following variables are highly positively correlated: G2 & G3 (0.91), G1 & G3 (0.79), and G1 & G2 (0.84).\n",
        "\n",
        "There are signs of **multicollinearity within predictive features (G1 & G2)** which could be a problem for some models such as the simple linear regression. More advanced models such as lasso regression will be able to address this."
      ]
    },
    {
      "cell_type": "code",
      "execution_count": 8,
      "metadata": {
        "colab": {
          "base_uri": "https://localhost:8080/",
          "height": 489
        },
        "id": "V8syHzqmI3d_",
        "outputId": "8ff9d310-1222-45c7-a81e-99607bc2780d"
      },
      "outputs": [
        {
          "data": {
            "text/plain": [
              "Text(0.5, 1.0, 'Distribution of Final Grades')"
            ]
          },
          "execution_count": 8,
          "metadata": {},
          "output_type": "execute_result"
        },
        {
          "data": {
            "image/png": "[encoded data removed]",
            "text/plain": [
              "<Figure size 640x480 with 1 Axes>"
            ]
          },
          "metadata": {},
          "output_type": "display_data"
        }
      ],
      "source": [
        "plt.hist(df['G3'], bins=20)\n",
        "plt.xlabel('Final Grade')\n",
        "plt.ylabel('Number of Students')\n",
        "plt.title('Distribution of Final Grades')"
      ]
    },
    {
      "attachments": {},
      "cell_type": "markdown",
      "metadata": {
        "id": "nz79QQNUQ6T8"
      },
      "source": [
        "**Takeaway:** The distribution of final grades seems normal with a peak around 11 and potential outliers at 0"
      ]
    },
    {
      "cell_type": "code",
      "execution_count": 10,
      "metadata": {
        "colab": {
          "base_uri": "https://localhost:8080/",
          "height": 489
        },
        "id": "7Wq7pq9VJH1A",
        "outputId": "da662e19-c0d9-444b-eb32-455320b55b93"
      },
      "outputs": [
        {
          "data": {
            "text/plain": [
              "Text(0, 0.5, 'Final Grade')"
            ]
          },
          "execution_count": 10,
          "metadata": {},
          "output_type": "execute_result"
        },
        {
          "data": {
            "image/png": "[encoded data removed]",
            "text/plain": [
              "<Figure size 640x480 with 1 Axes>"
            ]
          },
          "metadata": {},
          "output_type": "display_data"
        }
      ],
      "source": [
        "sns.boxplot(x='school', y='G3', data=df)\n",
        "plt.title('Final Grade by School')\n",
        "plt.xlabel('School')\n",
        "plt.ylabel('Final Grade')"
      ]
    },
    {
      "attachments": {},
      "cell_type": "markdown",
      "metadata": {
        "id": "01mCtQQfPewF"
      },
      "source": [
        "**Takeaway:** There are outliers in both schools that scored extremely low on G3 (0.00). This warrants additional analysis of models with and without outliers."
      ]
    },
    {
      "cell_type": "code",
      "execution_count": 11,
      "metadata": {
        "colab": {
          "base_uri": "https://localhost:8080/",
          "height": 489
        },
        "id": "vOqnYGshJekq",
        "outputId": "da9f363d-216d-4a99-c4da-2c525917e9e3"
      },
      "outputs": [
        {
          "data": {
            "text/plain": [
              "Text(0, 0.5, 'Final Grade')"
            ]
          },
          "execution_count": 11,
          "metadata": {},
          "output_type": "execute_result"
        },
        {
          "data": {
            "image/png": "[encoded data removed]",
            "text/plain": [
              "<Figure size 640x480 with 1 Axes>"
            ]
          },
          "metadata": {},
          "output_type": "display_data"
        }
      ],
      "source": [
        "sns.scatterplot(x='failures', y='G3', data=df)\n",
        "plt.title('Final Grade by Past Failures')\n",
        "plt.xlabel('Failures')\n",
        "plt.xticks([0,1,2,3])\n",
        "plt.ylabel('Final Grade')"
      ]
    },
    {
      "attachments": {},
      "cell_type": "markdown",
      "metadata": {
        "id": "d5iJ45kCPt4c"
      },
      "source": [
        "**Takeaway:** As one would expect, the more failures a student has made, the worse their final grade seems to be. Overall, there seems to be a negative correlation."
      ]
    },
    {
      "cell_type": "code",
      "execution_count": 9,
      "metadata": {
        "colab": {
          "base_uri": "https://localhost:8080/",
          "height": 489
        },
        "id": "zvxZcZuJblhG",
        "outputId": "a4342654-a2ba-4879-ac64-ba768422fa6e"
      },
      "outputs": [
        {
          "data": {
            "text/plain": [
              "Text(0, 0.5, 'Final Grade')"
            ]
          },
          "execution_count": 9,
          "metadata": {},
          "output_type": "execute_result"
        },
        {
          "data": {
            "image/png": "[encoded data removed]",
            "text/plain": [
              "<Figure size 640x480 with 1 Axes>"
            ]
          },
          "metadata": {},
          "output_type": "display_data"
        }
      ],
      "source": [
        "sns.barplot(x='sex', y='G3', data=df)\n",
        "plt.title('Final Grade by Sex')\n",
        "plt.xlabel('Sex')\n",
        "plt.ylabel('Final Grade')"
      ]
    },
    {
      "attachments": {},
      "cell_type": "markdown",
      "metadata": {
        "id": "g9hKu-a3RGHG"
      },
      "source": [
        "**Takeaway:** The average grade for the male sex and the female sex are very similar."
      ]
    },
    {
      "attachments": {},
      "cell_type": "markdown",
      "metadata": {
        "id": "7CMjRSw4Kuhf"
      },
      "source": [
        "## Feature Engineering & Data Preprocessing"
      ]
    },
    {
      "cell_type": "code",
      "execution_count": 10,
      "metadata": {
        "colab": {
          "base_uri": "https://localhost:8080/"
        },
        "id": "guo6o8U6Ktyr",
        "outputId": "2612a90d-b09b-4dc5-bbd2-503872949e86"
      },
      "outputs": [
        {
          "data": {
            "text/plain": [
              "0      0\n",
              "1      0\n",
              "2      0\n",
              "3      1\n",
              "4      1\n",
              "      ..\n",
              "657    0\n",
              "658    1\n",
              "659    0\n",
              "660    0\n",
              "661    1\n",
              "Name: BothParentsEmpd, Length: 662, dtype: category\n",
              "Categories (2, int64): [0, 1]"
            ]
          },
          "execution_count": 10,
          "metadata": {},
          "output_type": "execute_result"
        }
      ],
      "source": [
        "## Feature engineering: \n",
        "# Adding binary feature [1,0] to see if both parents are employed \n",
        "#       BothParentsEmpd. True = 1, False = 0\n",
        "\n",
        "df.loc[(df['Mjob'] != \"at_home\") & (df['Fjob'] != \"at_home\"), \"BothParentsEmpd\"] = 1\n",
        "df['BothParentsEmpd'].fillna(0, inplace=True)\n",
        "df['BothParentsEmpd'] = df['BothParentsEmpd'].astype(int).astype('category')\n",
        "df['BothParentsEmpd']"
      ]
    },
    {
      "cell_type": "code",
      "execution_count": 11,
      "metadata": {
        "colab": {
          "base_uri": "https://localhost:8080/"
        },
        "id": "ZbRJeukYaflH",
        "outputId": "81a804bc-88ba-495b-8b61-4ea498affb24"
      },
      "outputs": [
        {
          "name": "stdout",
          "output_type": "stream",
          "text": [
            "# of columns: 99\n",
            "age                  int64\n",
            "failures             int64\n",
            "absences             int64\n",
            "G1                   int64\n",
            "G2                   int64\n",
            "                     ...  \n",
            "health_3             uint8\n",
            "health_4             uint8\n",
            "health_5             uint8\n",
            "BothParentsEmpd_0    uint8\n",
            "BothParentsEmpd_1    uint8\n",
            "Length: 99, dtype: object\n"
          ]
        }
      ],
      "source": [
        "# one-hot encoding\n",
        "categorical_cols = ['school', 'sex', 'address', 'famsize', 'Pstatus', 'Mjob', 'Fjob', \n",
        "                    'reason', 'guardian', 'schoolsup', 'famsup', 'paid', 'activities', \n",
        "                    'nursery', 'higher', 'internet', 'romantic', 'Medu', 'Fedu', 'traveltime',\n",
        "                    'studytime', 'famrel', 'freetime', 'goout', 'Dalc', 'Walc', 'health',\n",
        "                    'BothParentsEmpd']\n",
        "df = pd.get_dummies(df, columns=categorical_cols)\n",
        "print(f\"# of columns: {len(df.dtypes)}\")\n",
        "print(df.dtypes)"
      ]
    },
    {
      "cell_type": "code",
      "execution_count": 12,
      "metadata": {
        "id": "5h8Iu4Xacdhv"
      },
      "outputs": [],
      "source": [
        "## Remove outlier test scores\n",
        "# Assumption is that outlier students significantly skew results of linear regression\n",
        "df = df[df['G3'] >= 2]"
      ]
    },
    {
      "attachments": {},
      "cell_type": "markdown",
      "metadata": {
        "id": "6XXnIpcCdzOF"
      },
      "source": [
        "*Tested all models with and without outliers, and **removing the outliers made significant improvements on all models**. For example, the MSE of the initial lasso regression model decreased by nearly 50% from 1.389 to 0.746. Additionally, non-intuitive coefficient signs of certain features became more appropriate. For instance, the initial lasso model had impactful positive coefficients for both absences and weekend drinking, which is typically not what one would assume. After correcting outliers, the sign of coefficients for each feature became more reasonable.*"
      ]
    },
    {
      "attachments": {},
      "cell_type": "markdown",
      "metadata": {
        "id": "XgvOafInNTIY"
      },
      "source": [
        "## Model Selection"
      ]
    },
    {
      "cell_type": "code",
      "execution_count": 13,
      "metadata": {
        "id": "F2TqKg3kxhRd"
      },
      "outputs": [],
      "source": [
        "## Function to help print top 10 features for models used later on\n",
        "def printBestNFeatures(coef, features, n = -1):\n",
        "    if n <= 0:\n",
        "        n = len(features)\n",
        "    # map coefs to feature names and sort in reverse absolute value order\n",
        "    coef_map = list(zip(coef, features))\n",
        "    coef_map = sorted(coef_map, key=lambda x: abs(x[0]), reverse=True)\n",
        "\n",
        "    idx = 1\n",
        "    for (coef, feature) in coef_map[:n]:\n",
        "        print(f\"{idx}) {feature}: {round(coef,5)}\")\n",
        "        idx += 1"
      ]
    },
    {
      "attachments": {},
      "cell_type": "markdown",
      "metadata": {
        "id": "2Cj8vyi1tHn8"
      },
      "source": [
        "### Simple Linear Regression\n",
        "*Baseline predictive model*"
      ]
    },
    {
      "cell_type": "code",
      "execution_count": 16,
      "metadata": {
        "colab": {
          "base_uri": "https://localhost:8080/"
        },
        "id": "zuymIlwUtFMc",
        "outputId": "e5caa42e-548e-45d7-ff32-014ba8085155"
      },
      "outputs": [
        {
          "name": "stdout",
          "output_type": "stream",
          "text": [
            "R^2:  0.9070915695443731\n",
            "\n",
            "MSE: 0.7893832826953111\n",
            "\n",
            "Top 10 features:\n",
            "1) school_MS: -1039059524561.7946\n",
            "2) school_GP: -1039059524561.7931\n",
            "3) Fedu_4: -756492509583.6124\n",
            "4) Fedu_3: -756492509583.6036\n",
            "5) Fedu_2: -756492509583.5951\n",
            "6) Fedu_1: -756492509583.4458\n",
            "7) Fedu_0: -756492509583.3212\n",
            "8) traveltime_4: 443472508265.65063\n",
            "9) traveltime_2: 443472508265.2346\n",
            "10) traveltime_1: 443472508265.19055\n"
          ]
        }
      ],
      "source": [
        "X = df.drop(['G3'], axis=1)\n",
        "y = df['G3']\n",
        "\n",
        "# Split data into training and testing sets\n",
        "X_train, X_test, y_train, y_test = train_test_split(X,y, test_size=0.2, random_state=123)\n",
        "\n",
        "# Linear regression\n",
        "slr = LinearRegression()\n",
        "slr.fit(X_train, y_train)\n",
        "yPred = slr.predict(X_test)\n",
        "\n",
        "# Performance metrics:\n",
        "mse = mean_squared_error(y_test, yPred)\n",
        "r2 = r2_score(y_test, yPred)\n",
        "\n",
        "print(\"R^2: \", r2)\n",
        "print('\\nMSE:', mse)\n",
        "print(\"\\nTop 10 features:\")\n",
        "printBestNFeatures(slr.coef_, X_train.columns, 10)"
      ]
    },
    {
      "attachments": {},
      "cell_type": "markdown",
      "metadata": {
        "id": "sD8xqLF0vZPU"
      },
      "source": [
        "**Commentary:** Despite having reasonable performance metrics for MSE and R^2, the coefficients of the features are extremely large. This is nonsensical and a common warning sign for a model that is overfitting all the noise in the data. It also hints at issues of multicollinearity which can be addressed with **lasso regression**."
      ]
    },
    {
      "attachments": {},
      "cell_type": "markdown",
      "metadata": {
        "id": "ZAHuyG4tyUn5"
      },
      "source": [
        "### K Nearest Neighbors (kNN)"
      ]
    },
    {
      "cell_type": "code",
      "execution_count": 18,
      "metadata": {
        "colab": {
          "base_uri": "https://localhost:8080/"
        },
        "id": "YGxtU8AnyhIj",
        "outputId": "433da19c-f284-43fe-a7e7-71e2d7712de6"
      },
      "outputs": [
        {
          "name": "stdout",
          "output_type": "stream",
          "text": [
            "R^2:  0.8703382398524264\n",
            "MSE: 1.101652727996814\n"
          ]
        }
      ],
      "source": [
        "X = df.drop('G3', axis=1)\n",
        "y = df['G3']\n",
        "\n",
        "# Split data into training and testing sets\n",
        "X_train, X_test, y_train, y_test = train_test_split(X, y, test_size=0.2, random_state=123)\n",
        "\n",
        "# kNN regressor with k = 19\n",
        "kNN = KNeighborsRegressor(n_neighbors=9)\n",
        "kNN.fit(X_train, y_train)\n",
        "yPred = kNN.predict(X_test)\n",
        "\n",
        "# Performance metrics:\n",
        "r2 = r2_score(y_test, yPred)\n",
        "mse = mean_squared_error(y_test, yPred)\n",
        "print(\"R^2: \", r2)\n",
        "print(\"MSE:\", mse)"
      ]
    },
    {
      "attachments": {},
      "cell_type": "markdown",
      "metadata": {
        "id": "wqanGkd3Wz9e"
      },
      "source": [
        "**Commentary:** After testing various k-folds, the best k-fold variation seemed to be 9 to best fit the data. The MSE is low at 1.102 and R^2 is also good at 0.87. This model provides simplicity while sacrificing some performance (but not much)."
      ]
    },
    {
      "attachments": {},
      "cell_type": "markdown",
      "metadata": {
        "id": "FfTbtdjZgsqV"
      },
      "source": [
        "### Lasso Regression\n",
        "**Description:** Lasso regression could help with feature selection and certainly worthwhile given the 99 feature columns."
      ]
    },
    {
      "cell_type": "code",
      "execution_count": 20,
      "metadata": {
        "colab": {
          "base_uri": "https://localhost:8080/"
        },
        "id": "7ShdRP-PNVrT",
        "outputId": "d5a3d5ee-1a13-41e4-8b63-d04b041a044d"
      },
      "outputs": [
        {
          "name": "stdout",
          "output_type": "stream",
          "text": [
            "R^2: 0.9121811299457593\n",
            "\n",
            "MSE: 0.7461405556637618\n",
            "\n",
            "1) G2: 0.8256\n",
            "2) G1: 0.14752\n",
            "3) absences: -0.01649\n",
            "4) age: 0.0\n",
            "5) failures: -0.0\n",
            "6) school_GP: -0.0\n",
            "7) school_MS: 0.0\n",
            "8) sex_F: 0.0\n",
            "9) sex_M: -0.0\n",
            "10) address_R: -0.0\n"
          ]
        }
      ],
      "source": [
        "# LASSO REGRESSION\n",
        "\n",
        "# Split data into training and testing sets\n",
        "X_train, X_test, y_train, y_test = train_test_split(df.drop('G3', axis=1), df['G3'], test_size=0.2, random_state=123)\n",
        "\n",
        "# create lasso and fit model\n",
        "lasso = Lasso(alpha=0.1)\n",
        "lasso.fit(X_train, y_train)\n",
        "\n",
        "# Performance metrics:\n",
        "R2_Score = lasso.score(X_test, y_test)\n",
        "yPred = lasso.predict(X_test)\n",
        "mse = mean_squared_error(y_test, yPred)\n",
        "\n",
        "print(f'R^2: {R2_Score}')\n",
        "print(f\"\\nMSE: {mse}\\n\")\n",
        "printBestNFeatures(lasso.coef_, X_train.columns, 10)"
      ]
    },
    {
      "attachments": {},
      "cell_type": "markdown",
      "metadata": {
        "id": "Ph9Xtv30iNtj"
      },
      "source": [
        "**Commentary:** The lasso model has achieved an **impressive R^2 value of 0.912** and a **very low MSE of 0.746**. **A student's score on \"G2\" (second period grade) is the most impactful predictor** for \"G3\" with the highest coefficient of 0.826, with the **next best feature being \"G1\"** with a coefficient of 0.148. The third most impactful predictor is **absences** with a negative coefficient of -0.017 as one would expect. Note that the coefficients are not normalized, so scale of features will impact its importance in prediction. Multiple alpha values were also tested with 0.1 receiving the best results.\n",
        "\n",
        "Lastly, despite providing 99 features to utilize, the lasso model only primarily uses 3 features with the coefficients of other features being brought down very close to 0 since they may not correlate as much with G3.\n",
        "\n",
        "Ultimately, in order to improve this model's usefulness in a real-life context, I would like to **train the model *without* \"G2\"** and analyze its performance. In reality, it would be more insightful to accurately predict a student's success earlier in time before they have even taken the second period exam \"G2\".\n"
      ]
    },
    {
      "cell_type": "code",
      "execution_count": 22,
      "metadata": {
        "colab": {
          "base_uri": "https://localhost:8080/"
        },
        "id": "GBc6lVjFY8XS",
        "outputId": "781ce336-533f-4ed2-d1f0-c867423b904e"
      },
      "outputs": [
        {
          "name": "stdout",
          "output_type": "stream",
          "text": [
            "R^2: 0.7514600467072747\n",
            "\n",
            "MSE: 2.1116844106504695\n",
            "\n",
            "1) G1: 0.85889\n",
            "2) absences: -0.04207\n",
            "3) age: -0.0\n",
            "4) failures: -0.0\n",
            "5) school_GP: 0.0\n",
            "6) school_MS: -0.0\n",
            "7) sex_F: 0.0\n",
            "8) sex_M: -0.0\n",
            "9) address_R: -0.0\n",
            "10) address_U: 0.0\n"
          ]
        }
      ],
      "source": [
        "# LASSO REGRESSION without G2!\n",
        "\n",
        "# Split the dataset into training and testing sets\n",
        "X_train, X_test, y_train, y_test = train_test_split(df.drop(['G2','G3'], axis=1), df['G3'], test_size=0.2, random_state=123)\n",
        "\n",
        "# Create lasso and fit\n",
        "lasso = Lasso(alpha=0.1)\n",
        "lasso.fit(X_train, y_train)\n",
        "\n",
        "# Performance metrics:\n",
        "R2_Score = lasso.score(X_test, y_test)\n",
        "yPred = lasso.predict(X_test)\n",
        "mse = mean_squared_error(y_test, yPred)\n",
        "\n",
        "print(f'R^2: {R2_Score}\\n')\n",
        "print(f\"MSE: {mse}\\n\")\n",
        "printBestNFeatures(lasso.coef_, X_train.columns, 10)"
      ]
    },
    {
      "attachments": {},
      "cell_type": "markdown",
      "metadata": {
        "id": "aWqDW5WxWL3V"
      },
      "source": [
        "**Commentary:** With this Lasso model being trained *without* the G2 feature, we have a notable increase in MSE from the initial error of 0.746 to 2.112. Additionally, the R^2 value has also decreased to 0.75 from 0.91.\n",
        "\n",
        "The most impactful predictor is \"G1\" with a coefficient of 0.859, followed by the number of absences which has a coefficient -0.042. Note that this model \"utilizes\" **only 2 features** with impactful coefficients whereas the first model used about 3. Essentially, this second model is using the same features as the first model minus G2.\n",
        "\n",
        "Despite its shortcomings in performance, **there is still some legitimacy behind this model** in the case that we would like to predict a student's performance earlier in time as this could be useful in a real-life context.\n",
        "\n",
        "It's evident that removing previous grades such as \"G2\" has a strong negative impact on the model's accuracy on predicting G3. However, I will also build a **lasso model without G1** to see if the model can accurately predict scores even earlier in time.\n"
      ]
    },
    {
      "cell_type": "code",
      "execution_count": 24,
      "metadata": {
        "colab": {
          "base_uri": "https://localhost:8080/"
        },
        "id": "bJE1Dztik0Aq",
        "outputId": "7383ad70-4f5d-4ca7-85fe-9b15a968098f"
      },
      "outputs": [
        {
          "name": "stdout",
          "output_type": "stream",
          "text": [
            "R^2: 0.13324547523637342\n",
            "\n",
            "MSE: 7.364256706238304\n",
            "\n",
            "1) failures: -1.08744\n",
            "2) schoolsup_no: 0.7242\n",
            "3) Medu_4: 0.44199\n",
            "4) Medu_1: -0.34074\n",
            "5) famsup_no: 0.2956\n",
            "6) BothParentsEmpd_0: -0.27836\n",
            "7) goout_2: 0.27153\n",
            "8) reason_reputation: 0.25858\n",
            "9) Walc_1: 0.19025\n",
            "10) internet_no: -0.16672\n"
          ]
        }
      ],
      "source": [
        "# LASSO REGRESSION without G2 & G1!\n",
        "\n",
        "# Split the dataset into training and testing sets\n",
        "X_train, X_test, y_train, y_test = train_test_split(df.drop(['G1','G2','G3'], axis=1), df['G3'], test_size=0.2, random_state=123)\n",
        "\n",
        "# Create lasso and fit\n",
        "lasso = Lasso(alpha=0.1)\n",
        "lasso.fit(X_train, y_train)\n",
        "\n",
        "# Performance metrics:\n",
        "score = lasso.score(X_test, y_test)\n",
        "yPred = lasso.predict(X_test)\n",
        "mse = mean_squared_error(y_test, yPred)\n",
        "\n",
        "print(f'R^2: {score}\\n')\n",
        "print(f\"MSE: {mse}\\n\")\n",
        "printBestNFeatures(lasso.coef_, X_train.columns, 10)"
      ]
    },
    {
      "attachments": {},
      "cell_type": "markdown",
      "metadata": {
        "id": "JIlvqv22WX-P"
      },
      "source": [
        "**Commentary:** Needless to say, this is a **very poor model**. Without information on G1 and G2, MSE is very high at 7.36 (especially poor since the range of scores is only 0 to 20). R^2 is also very poor at 0.13 and this model may only be marginally more useful than someone making educated guesses. With the information available in this dataset, we are **not able to accuracy predict G3 scores before the student has at least received a grade for G1** using Lasso.\n",
        "\n",
        "Also, the **signs (+/-) of some features do not make intuitive/logical sense**. This model associates having no additional school support as the greatest positive impact on student performance. Having no family support is also associated with a positive impact on student performance.\n"
      ]
    },
    {
      "attachments": {},
      "cell_type": "markdown",
      "metadata": {
        "id": "AWJ33AN3yGfw"
      },
      "source": [
        "### Support Vector Machine\n",
        "**Desc:** Potentially useful for multi-dimensional data"
      ]
    },
    {
      "cell_type": "code",
      "execution_count": 26,
      "metadata": {
        "id": "JOovtJ9knzt8"
      },
      "outputs": [],
      "source": [
        "## normalize data - necessary to accurately address varying scale of input features\n",
        "def build_normalization_dict(df, target_col):\n",
        "    \"\"\"Collect the (min, max) values of each column, except the\n",
        "    target column.\n",
        "    \"\"\"\n",
        "    dict_normalize = {}\n",
        "\n",
        "    for column in df.columns:\n",
        "        if column != target_col:\n",
        "            val = (df[column].min(), df[column].max())\n",
        "            dict_normalize[column] = val\n",
        "\n",
        "    return dict_normalize\n",
        "\n",
        "def normalize(df, dict_normalize, target_col):\n",
        "    \"\"\"Normalize a dataframe, setting all values to the range [0, 1]\n",
        "    using (min, max) values in dict_normalize. Do not normalize target_col.\"\"\"\n",
        "\n",
        "    for column in df.columns:\n",
        "        if column != target_col:\n",
        "            rng = dict_normalize[column][1] - dict_normalize[column][0] \n",
        "            df[column] = (df[column] - dict_normalize[column][0]) / rng\n",
        "    \n",
        "    return df\n",
        "\n",
        "# Define the target column as a string\n",
        "target = \"G3\"\n",
        "\n",
        "# Collect normalization values\n",
        "dict_normalize = build_normalization_dict(df, target)\n",
        "\n",
        "# Normalize the dataframe\n",
        "df = normalize(df, dict_normalize, target)"
      ]
    },
    {
      "cell_type": "code",
      "execution_count": 29,
      "metadata": {
        "colab": {
          "base_uri": "https://localhost:8080/"
        },
        "id": "FlygPNqiOprj",
        "outputId": "b031405c-42fd-4a70-9b23-80881bce2119"
      },
      "outputs": [
        {
          "name": "stdout",
          "output_type": "stream",
          "text": [
            "R^2:  0.8955801811442388\n",
            "\n",
            "MSE: 0.887188159164714\n",
            "\n",
            "Top 25 features:\n",
            "1) G2: 10.10776\n",
            "2) G1: 3.29599\n",
            "3) absences: -1.19247\n",
            "4) Dalc_5: -0.56189\n",
            "5) Dalc_4: 0.50996\n",
            "6) age: 0.40632\n",
            "7) failures: -0.3548\n",
            "8) Walc_2: -0.26672\n",
            "9) Fjob_teacher: 0.25138\n",
            "10) Mjob_at_home: -0.207\n",
            "11) traveltime_4: 0.20314\n",
            "12) health_3: -0.19942\n",
            "13) freetime_2: 0.1719\n",
            "14) Mjob_teacher: 0.15544\n",
            "15) freetime_1: -0.15463\n",
            "16) Dalc_1: 0.15236\n",
            "17) Fedu_1: 0.14037\n",
            "18) famrel_4: -0.13617\n",
            "19) health_4: 0.13526\n",
            "20) guardian_other: -0.12891\n",
            "21) goout_2: 0.12863\n",
            "22) nursery_no: 0.12738\n",
            "23) nursery_yes: -0.12738\n",
            "24) schoolsup_no: 0.12716\n",
            "25) schoolsup_yes: -0.12716\n"
          ]
        }
      ],
      "source": [
        "## SVM Model\n",
        "\n",
        "X = df.drop(['G3'], axis=1)\n",
        "y = df['G3']\n",
        "\n",
        "# Split the dataset into training and testing sets\n",
        "X_train, X_test, y_train, y_test = train_test_split(X,y, test_size=0.2, random_state=123)\n",
        "\n",
        "# Create an SVM model and fit\n",
        "svm = SVR(kernel='linear', C=1.0, epsilon=0.1)\n",
        "svm.fit(X_train, y_train)\n",
        "yPred = svm.predict(X_test)\n",
        "\n",
        "# Performance metrics:\n",
        "r2 = r2_score(y_test, yPred)\n",
        "mse = mean_squared_error(y_test, yPred)\n",
        "\n",
        "print(\"R^2: \", r2)\n",
        "print('\\nMSE:', mse)\n",
        "print(\"\\nTop 25 features:\")\n",
        "printBestNFeatures(svm.coef_.ravel(), X_train.columns, 25)"
      ]
    },
    {
      "attachments": {},
      "cell_type": "markdown",
      "metadata": {
        "id": "RfWO7XKlWi2I"
      },
      "source": [
        "**Commentary:** This SVM model with a linear kernel has also achieved an impressive R^2 at 0.896 and MSE at 0.887, which is only slightly higher than the first lasso model at 0.75 MSE. Unlike the lasso models, this model **utilizes much more features in making predictions** as seen by the number of features with notable sized coefficients. \n",
        "\n",
        "As such, the more diverse utilization of features in this model leads me to believe that this model is **overall more robust** than the lasso model in making future predictions. Especially when the lasso model only uses 2-3 features of the 99 potentially useful features, it may be harder to extend its applicability to other contexts. There also seems to be a **greater proportion of features that are appropriately positive & negative** as one would expect in reality in SVM versus lasso.\n",
        "\n",
        "The most impactful features were G2, G1, and # of absences (similar to all other models) with normalized coefficients of 10.12, 3.3, and -1.2 respectively.\n"
      ]
    },
    {
      "attachments": {},
      "cell_type": "markdown",
      "metadata": {
        "id": "zhomTR2iXWOJ"
      },
      "source": [
        "# Conclusion:\n",
        "**The overall best model** with the lowest MSE and the highest R^2 was the **initial lasso model** (MSE = 0.75, R^2 = 0.912). **The SVM model also deserves a notable mention** as it seemed more robust in predictive power despite only being slightly lower in predictive performance. This is especially evident since the first lasso model only really uses 3 features while the SVM is much more comprehensive. Using more features does not always mean one model is better than another, but in this situation, the difference is very notable.\n",
        "\n",
        "The **second lasso model** that seeked to predict the student performance without the G2 feature **was not as impressive but also not meritless**. The MSE was 2.11 and R^2 was 0.75. This model could potentially be useful to get a fairly accurate idea of a student's performance earlier in time,with the tradeoff being loss in overall accuracy.\n",
        "\n",
        "\n",
        "Lastly, some **constraints & concessions** to be mindful of:\n",
        "- This data is from 2008 and is specific to two Portuguese schools in Brazil. Extending the application of these models beyond this context could be very erroneous.\n",
        "- The data from the two schools were combined under the assumption that all other factors between the two schools (than the ones observed) were similar in nature and not confounding."
      ]
    },
    {
      "cell_type": "code",
      "execution_count": 30,
      "metadata": {
        "colab": {
          "base_uri": "https://localhost:8080/",
          "height": 472
        },
        "id": "beQtrXU72Q60",
        "outputId": "1cbff715-37ea-45e1-a710-3cbca85b6bda"
      },
      "outputs": [
        {
          "data": {
            "image/png": "[encoded data removed]",
            "text/plain": [
              "<Figure size 640x480 with 1 Axes>"
            ]
          },
          "metadata": {},
          "output_type": "display_data"
        }
      ],
      "source": [
        "## Barchart of R^2 Values\n",
        "model_labels = ['SLR', 'kNN', 'Lasso', 'LassoNoG2', 'LassoNoG1G2', 'SVM']\n",
        "R2_values = [0.789, 0.870, 0.912, 0.751, 0.133, 0.896]\n",
        "\n",
        "norm = mcolors.Normalize(vmin=min(R2_values), vmax=max(R2_values))\n",
        "cmap = mcolors.LinearSegmentedColormap.from_list(\"\", [\"red\", \"green\"])\n",
        "\n",
        "plt.barh(model_labels, R2_values, color=cmap(norm(R2_values)))\n",
        "plt.title('Bar Chart of R^2 Values by Model')\n",
        "plt.xlabel('R^2')\n",
        "plt.ylabel('Models')\n",
        "\n",
        "plt.show()"
      ]
    },
    {
      "cell_type": "code",
      "execution_count": 31,
      "metadata": {
        "colab": {
          "base_uri": "https://localhost:8080/",
          "height": 472
        },
        "id": "QW0posuk5U5N",
        "outputId": "e209ca74-ec0d-423f-92bc-4e8d9d1b9077"
      },
      "outputs": [
        {
          "data": {
            "image/png": "[encoded data removed]",
            "text/plain": [
              "<Figure size 640x480 with 1 Axes>"
            ]
          },
          "metadata": {},
          "output_type": "display_data"
        }
      ],
      "source": [
        "## Barchart of MSE Values\n",
        "model_labels = ['SLR', 'kNN', 'Lasso', 'LassoNoG2', 'LassoNoG1G2', 'SVM']\n",
        "MSE_values = [0.907, 1.101, 0.746, 2.112, 7.364, 0.887]\n",
        "\n",
        "norm = mcolors.Normalize(vmin=min(MSE_values), vmax=max(MSE_values))\n",
        "cmap = mcolors.LinearSegmentedColormap.from_list(\"\", [\"green\", \"red\"])\n",
        "\n",
        "plt.barh(model_labels, MSE_values, color=cmap(norm(MSE_values)))\n",
        "plt.title('Bar Chart of MSE by Model')\n",
        "plt.xlabel('MSE')\n",
        "plt.ylabel('Models')\n",
        "\n",
        "# Show the plot\n",
        "plt.show()"
      ]
    },
    {
      "cell_type": "code",
      "execution_count": 32,
      "metadata": {
        "colab": {
          "base_uri": "https://localhost:8080/",
          "height": 472
        },
        "id": "MkBd4dYC-2Sl",
        "outputId": "f33e36c8-7f25-4687-de7d-26dc3264ab3f"
      },
      "outputs": [
        {
          "data": {
            "image/png": "[encoded data removed]",
            "text/plain": [
              "<Figure size 640x480 with 2 Axes>"
            ]
          },
          "metadata": {},
          "output_type": "display_data"
        }
      ],
      "source": [
        "model_labels = ['SLR', 'kNN', 'Lasso', 'LassoNoG2', 'LassoNoG1G2', 'SVM']\n",
        "R2_values = [0.789, 0.870, 0.912, 0.751, 0.133, 0.896]\n",
        "MSE_values = [0.907, 1.101, 0.746, 2.112, 7.364, 0.887]\n",
        "\n",
        "## Barchart of R^2 Values\n",
        "plt.subplot(2, 1, 1)\n",
        "norm = mcolors.Normalize(vmin=min(R2_values), vmax=max(R2_values))\n",
        "cmap = mcolors.LinearSegmentedColormap.from_list(\"\", [\"red\", \"green\"])\n",
        "\n",
        "plt.barh(model_labels, R2_values, color=cmap(norm(R2_values)))\n",
        "plt.title('Bar Chart of R^2 Values by Model')\n",
        "plt.xlabel('R^2')\n",
        "plt.ylabel('Models')\n",
        "\n",
        "## Barchart of MSE Values\n",
        "plt.subplot(2, 1, 2)\n",
        "model_labels = ['SLR', 'kNN', 'Lasso', 'LassoNoG2', 'LassoNoG1G2', 'SVM']\n",
        "MSE_values = [0.907, 1.101, 0.746, 2.112, 7.364, 0.887]\n",
        "\n",
        "norm = mcolors.Normalize(vmin=min(MSE_values), vmax=max(MSE_values))\n",
        "cmap = mcolors.LinearSegmentedColormap.from_list(\"\", [\"green\", \"red\"])\n",
        "\n",
        "plt.barh(model_labels, MSE_values, color=cmap(norm(MSE_values)))\n",
        "plt.title('Bar Chart of MSE by Model')\n",
        "plt.xlabel('MSE')\n",
        "plt.ylabel('Models')\n",
        "\n",
        "plt.subplots_adjust(hspace=.5)\n",
        "\n",
        "plt.show()"
      ]
    }
  ],
  "metadata": {
    "colab": {
      "collapsed_sections": [
        "B_Q917VzCJ3O",
        "bm9SwPBIHERN",
        "7CMjRSw4Kuhf",
        "XgvOafInNTIY",
        "zhomTR2iXWOJ"
      ],
      "provenance": []
    },
    "kernelspec": {
      "display_name": "Python 3",
      "name": "python3"
    },
    "language_info": {
      "name": "python"
    }
  },
  "nbformat": 4,
  "nbformat_minor": 0
}
